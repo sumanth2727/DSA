{
 "cells": [
  {
   "cell_type": "markdown",
   "id": "2ceceaa8",
   "metadata": {},
   "source": [
    "What is a Data structure?\n",
    "\n",
    "Data structure are different ways to organize ur data in computer that can be used effectively\n",
    "\n",
    "S/W performance and effenciy is deponds upon the DS we used to store the data in system\n",
    "\n",
    "Example: If we have a box contains different colour balls and we want to pick all the blue balls from box.\n",
    "\n",
    "so we need to go each and every ball and check the ball is blue or not and if it blue we will pick it\n",
    "\n",
    "we do the same job in another way that , 1st arrange the ball according to it colour while placing the balll in box , so that that we can pick the ball whatever we want directly from box. This is the place where Data Structres comes into picture\n"
   ]
  },
  {
   "cell_type": "markdown",
   "id": "02d6421e",
   "metadata": {},
   "source": [
    "What is an Algorithm?\n",
    "\n",
    "Set of instructions to perform the task\n",
    "\n",
    "example: buy a coffee from starbucks\n",
    "\n",
    "step1: go to starbucks\n",
    "step2: choose the coffee u want\n",
    "step3: order it\n",
    "step4: pay for it\n",
    "step5: take it and enjoy\n"
   ]
  },
  {
   "cell_type": "markdown",
   "id": "60b0fe39",
   "metadata": {},
   "source": [
    "Why companies look at DSA in intervies?\n",
    "* Problem solving Skill\n",
    "* basic concepts for s/w developer"
   ]
  },
  {
   "cell_type": "markdown",
   "id": "dbdf94fc",
   "metadata": {},
   "source": [
    "Type of DS:\n",
    "* Primitivie DS:\n",
    "-> Basci data types that they are not broken into simple data types\n",
    "-> has fixed size\n",
    "-> small in size\n",
    "-> simple operation\n",
    "-> present in memoery as simple values\n",
    "* Integer\n",
    "* Float\n",
    "* String\n",
    "* Boolean\n",
    "\n",
    "* Non primitive:\n",
    "-> more complex and broken into small data types\n",
    "-> pointers to other memory locations\n",
    "-> it is classifed into 2 types\n",
    "1. Linear data Structures\n",
    "-> elements are arranged in sequental order and connects to next elemnt\n",
    "* List\n",
    "* Tuple\n",
    "* Array\n",
    "* Linked List\n",
    "* stack\n",
    "* Queue\n",
    "\n",
    "2. Non Linear DS:\n",
    "-> not connected in linear fassiona and connected to one or more other elements\n",
    "* Set\n",
    "* Dictonary\n",
    "* Tree\n",
    "* Graph\n",
    "\n",
    "Bulit in DS: List, Tuple, set, Dictonary\n",
    "user defined DS: rest all user defined\n",
    "\n",
    "\n"
   ]
  },
  {
   "cell_type": "markdown",
   "id": "66b51bb3",
   "metadata": {},
   "source": [
    "Types of Algo:\n",
    "*Sorting\n",
    "*search\n",
    "*Graph\n",
    "*DP\n",
    "*Divide and conquer\n",
    "*Recursive"
   ]
  },
  {
   "cell_type": "markdown",
   "id": "c3d997cf",
   "metadata": {},
   "source": [
    "Lecture 2 Recursion\n",
    "\n",
    "What is Recursion?\n",
    "\n",
    "A way of solving a problem by having a function calling itself\n",
    "\n",
    "example: Russain doll\n",
    "\n",
    "Rules for recursion:\n",
    "1. perform same operation many times with different I/P \n",
    "2. every time try with smaller I/P to make the problem smaller\n",
    "3. Base Condition: to stop the recursion and stop infinate loop\n"
   ]
  },
  {
   "cell_type": "code",
   "execution_count": 1,
   "id": "46c5dfd0",
   "metadata": {},
   "outputs": [],
   "source": [
    "#example\n",
    "def RussianDoll_open(doll):\n",
    "    if doll==1:\n",
    "        print(\"All dolls are open\")\n",
    "    else:\n",
    "        RussianDoll_open(doll-1)"
   ]
  },
  {
   "cell_type": "code",
   "execution_count": 2,
   "id": "6c6bcc8c",
   "metadata": {},
   "outputs": [
    {
     "name": "stdout",
     "output_type": "stream",
     "text": [
      "All dolls are open\n"
     ]
    }
   ],
   "source": [
    "RussianDoll_open(5)"
   ]
  },
  {
   "cell_type": "markdown",
   "id": "66b93833",
   "metadata": {},
   "source": [
    "Why Recursion?\n",
    " * Recursive Thinking\n",
    " * Using trees and graphs\n",
    " * Interviews\n",
    " * used in many Algos\n",
    " \n"
   ]
  },
  {
   "cell_type": "markdown",
   "id": "b3f913c9",
   "metadata": {},
   "source": [
    "How Recursion works ?\n",
    "1. a method to call it self\n",
    "2. Base condition to exit from infinate loop\n"
   ]
  },
  {
   "cell_type": "code",
   "execution_count": 4,
   "id": "11b4159d",
   "metadata": {},
   "outputs": [
    {
     "name": "stdout",
     "output_type": "stream",
     "text": [
      "Hello World,\n",
      "Welcome to DSA with python\n",
      "Let do it\n"
     ]
    }
   ],
   "source": [
    "def m1():\n",
    "    m2()\n",
    "    print(\"Let do it\")\n",
    "def m2():\n",
    "    m3()\n",
    "    print(\"Welcome to DSA with python\")\n",
    "def m3():\n",
    "    print(\"Hello World,\")\n",
    "m1()"
   ]
  },
  {
   "cell_type": "code",
   "execution_count": 4,
   "id": "f4956128",
   "metadata": {},
   "outputs": [
    {
     "name": "stdout",
     "output_type": "stream",
     "text": [
      "Hello World,\n",
      "Welcome to DSA with python\n",
      "Let do it\n"
     ]
    }
   ],
   "source": [
    "m1()"
   ]
  },
  {
   "cell_type": "markdown",
   "id": "3246a6d5",
   "metadata": {},
   "source": [
    "Recurssive vs Iterative \n",
    "\n",
    "Space: 0 1\n",
    "Time: 0 1\n",
    "easy to code: 1 0"
   ]
  },
  {
   "cell_type": "code",
   "execution_count": 5,
   "id": "8ac2a4a5",
   "metadata": {},
   "outputs": [
    {
     "data": {
      "text/plain": [
       "1024"
      ]
     },
     "execution_count": 5,
     "metadata": {},
     "output_type": "execute_result"
    }
   ],
   "source": [
    "def pow2(n):\n",
    "    if n==0:\n",
    "        return 1\n",
    "    else:\n",
    "        p=pow2(n-1)\n",
    "        return p*2\n",
    "pow2(10)"
   ]
  },
  {
   "cell_type": "code",
   "execution_count": 6,
   "id": "584bf483",
   "metadata": {},
   "outputs": [
    {
     "data": {
      "text/plain": [
       "2"
      ]
     },
     "execution_count": 6,
     "metadata": {},
     "output_type": "execute_result"
    }
   ],
   "source": [
    "def pow2(n):\n",
    "    i=0\n",
    "    p=1\n",
    "    while i<n:\n",
    "        p*=2\n",
    "        i+=1\n",
    "    return p\n",
    " \n",
    "pow2(1)"
   ]
  },
  {
   "cell_type": "markdown",
   "id": "2831585d",
   "metadata": {},
   "source": [
    " when to use recursion \n",
    " \n",
    " * easy to break into subproblems\n",
    " * ok with etra time and space\n",
    " * quick insted of efficent\n",
    " * traverse a tree\n",
    "  \n",
    "  not recursion (vise-versa)\n",
    "  "
   ]
  },
  {
   "cell_type": "code",
   "execution_count": 7,
   "id": "3a86890b",
   "metadata": {},
   "outputs": [],
   "source": [
    "#find the sum of digits of given number\n",
    "def SumofDigits(n):\n",
    "    assert n>=0 and int(n)==n,\" Please enter postive integer\"\n",
    "    if n ==0:\n",
    "        return n\n",
    "    else:\n",
    "        return int(n%10)+SumofDigits(n//10)\n",
    "    "
   ]
  },
  {
   "cell_type": "code",
   "execution_count": 8,
   "id": "07b8235a",
   "metadata": {},
   "outputs": [
    {
     "data": {
      "text/plain": [
       "12"
      ]
     },
     "execution_count": 8,
     "metadata": {},
     "output_type": "execute_result"
    }
   ],
   "source": [
    "SumofDigits(75)"
   ]
  },
  {
   "cell_type": "code",
   "execution_count": 9,
   "id": "45284d3a",
   "metadata": {},
   "outputs": [],
   "source": [
    "#calculate the powe of a number using recursion\n",
    "def power(base,exp):\n",
    "    assert int(exp)==exp , \"Please enter exponent as intege\"\n",
    "    if exp==0:\n",
    "        return 1\n",
    "    elif exp<0 and base > 0:\n",
    "        return 1/ base * power(base,exp+1)\n",
    "    else:\n",
    "        return base * power(base,exp-1)"
   ]
  },
  {
   "cell_type": "code",
   "execution_count": 10,
   "id": "e6e74c69",
   "metadata": {},
   "outputs": [
    {
     "data": {
      "text/plain": [
       "16807"
      ]
     },
     "execution_count": 10,
     "metadata": {},
     "output_type": "execute_result"
    }
   ],
   "source": [
    "power(7,5)"
   ]
  },
  {
   "cell_type": "code",
   "execution_count": 6,
   "id": "b0545856",
   "metadata": {},
   "outputs": [
    {
     "data": {
      "text/plain": [
       "5"
      ]
     },
     "execution_count": 6,
     "metadata": {},
     "output_type": "execute_result"
    }
   ],
   "source": [
    "#GCD of two numbers (using Equladian algorithm)\n",
    "def gcd(a,b):\n",
    "    assert int(a)==a and int(b)==b, \"numbers must be integegers\"\n",
    "    if a or b <0:\n",
    "        a=abs(a)\n",
    "        b=abs(b)\n",
    "    if b==0:\n",
    "        return a\n",
    "    return gcd(b,a%b)\n",
    "gcd(35,55)"
   ]
  },
  {
   "cell_type": "code",
   "execution_count": 7,
   "id": "a7057112",
   "metadata": {},
   "outputs": [
    {
     "data": {
      "text/plain": [
       "1000"
      ]
     },
     "execution_count": 7,
     "metadata": {},
     "output_type": "execute_result"
    }
   ],
   "source": [
    "#decimal to binary\n",
    "def dtob(n):\n",
    "    assert int(n)==n, \" please enter an integer\"\n",
    "    if n in[0,1]:\n",
    "        return n\n",
    "    else:\n",
    "        return int(n%2 + 10*dtob(n//2))\n",
    "dtob(8)"
   ]
  },
  {
   "cell_type": "code",
   "execution_count": 13,
   "id": "43c2d18f",
   "metadata": {},
   "outputs": [
    {
     "data": {
      "text/plain": [
       "128"
      ]
     },
     "execution_count": 13,
     "metadata": {},
     "output_type": "execute_result"
    }
   ],
   "source": [
    "#POWER SOLUTION\n",
    "def power(base, exponent):\n",
    "    if exponent == 0:\n",
    "        return 1\n",
    "    return base * power(base, exponent-1)\n",
    "power(2,7)"
   ]
  },
  {
   "cell_type": "code",
   "execution_count": 14,
   "id": "2f51bb25",
   "metadata": {},
   "outputs": [
    {
     "data": {
      "text/plain": [
       "120"
      ]
     },
     "execution_count": 14,
     "metadata": {},
     "output_type": "execute_result"
    }
   ],
   "source": [
    "#FACTORIAL SOLUTION\n",
    "def factorial(num):\n",
    "    if num <= 1:\n",
    "        return 1\n",
    "    return num * factorial(num-1)\n",
    "factorial(5)"
   ]
  },
  {
   "cell_type": "code",
   "execution_count": 15,
   "id": "4bfea674",
   "metadata": {},
   "outputs": [
    {
     "data": {
      "text/plain": [
       "40320"
      ]
     },
     "execution_count": 15,
     "metadata": {},
     "output_type": "execute_result"
    }
   ],
   "source": [
    "#PRODUCT OF ARRAY SOLUTION\n",
    "def productOfArray(arr):\n",
    "    if len(arr) == 0:\n",
    "        return 1\n",
    "    return arr[0] * productOfArray(arr[1:])\n",
    "a=[1,2,3,4,5,6,7,8]\n",
    "productOfArray(a)"
   ]
  },
  {
   "cell_type": "code",
   "execution_count": 16,
   "id": "2d6c5314",
   "metadata": {},
   "outputs": [
    {
     "data": {
      "text/plain": [
       "55"
      ]
     },
     "execution_count": 16,
     "metadata": {},
     "output_type": "execute_result"
    }
   ],
   "source": [
    "#RECURSIVE RANGE SOLUTION\n",
    "def recursiveRange(num):\n",
    "    if num <= 0:\n",
    "        return 0\n",
    "    return num + recursiveRange(num - 1)\n",
    "recursiveRange(10)"
   ]
  },
  {
   "cell_type": "code",
   "execution_count": 8,
   "id": "e55de95b",
   "metadata": {},
   "outputs": [
    {
     "data": {
      "text/plain": [
       "8"
      ]
     },
     "execution_count": 8,
     "metadata": {},
     "output_type": "execute_result"
    }
   ],
   "source": [
    "#FIBONACCI SOLUTION\n",
    "def fib(num):\n",
    "    if (num < 2):\n",
    "        return num\n",
    "    return fib(num - 1) + fib(num - 2)\n",
    "fib(6)"
   ]
  },
  {
   "cell_type": "markdown",
   "id": "8a9416f0",
   "metadata": {},
   "source": [
    "Big O Notation\n",
    "\n",
    "Time complexity: the amount of Time taken to complete a task\n",
    "\n",
    "Big O (Worst case): less or equal to worst case\n",
    "Big Omega: more than best case\n",
    "Big tetha: winthin worst and best case\n",
    "\n",
    "O(1): constant (number of operations constant)\n",
    "\n",
    "O(N): Linear(find number from 1 to n)\n",
    "\n",
    "O(LogN) Logarthmic (find element in sorted array)\n",
    "\n",
    "O(N^2) qudratic (Nested loop)\n",
    "\n",
    "O(2^n): Exponential ( Double recursion in fibonacci)\n"
   ]
  },
  {
   "cell_type": "markdown",
   "id": "fc022b18",
   "metadata": {},
   "source": [
    "O(1): picking a card in cards\n",
    "\n",
    "O(N): picking a specified card in deck of cards\n",
    "\n",
    "O(N^2): picking a specified card from all the sets\n",
    "\n",
    "O(LogN): binary search\n",
    "\n",
    "Time : O(1) < O(LogN) <O(N) < O(NLogN) < O(N^2) < O(2^n)\n",
    "\n"
   ]
  },
  {
   "cell_type": "markdown",
   "id": "e61f3f99",
   "metadata": {},
   "source": [
    "Space Complexity: The amout of space (Stack Memory) requred to complete a task \n"
   ]
  },
  {
   "cell_type": "markdown",
   "id": "5c6169a4",
   "metadata": {},
   "source": [
    "Array: Colction of simmillar type of objects\n",
    "example: Books in library rack\n",
    "\n",
    "* Array can store data of specified data tupe only\n",
    "* Element of array are continous\n",
    "* Each element has a unique index\n",
    "* The size is predefined and cannot modified\n",
    "\n",
    "Why Array ?\n",
    "\n",
    "which can store a fixed size of particular data type and avoid mutliple declaritions\n"
   ]
  },
  {
   "cell_type": "markdown",
   "id": "da18ba38",
   "metadata": {},
   "source": [
    "Types of Array:\n",
    "1. 1-D Array\n",
    "2. Multi-D Array\n",
    "\n"
   ]
  },
  {
   "cell_type": "code",
   "execution_count": 9,
   "id": "e213c42d",
   "metadata": {},
   "outputs": [
    {
     "name": "stdout",
     "output_type": "stream",
     "text": [
      "array('i', [1, 2, 3, 4, 5, 6])\n",
      "array('d', [1.2, 1.3, 1.4, 1.15])\n"
     ]
    }
   ],
   "source": [
    "#creation of array\n",
    "# Assign it a varaiable\n",
    "#define type of elements to store\n",
    "#define the size \n",
    "\n",
    "from array import *\n",
    "arr1 = array('i',[1,2,3,4,5,6])\n",
    "print(arr1)\n",
    "\n",
    "arr2= array('d',[1.2,1.3,1.4,1.15])\n",
    "print(arr2)\n"
   ]
  },
  {
   "cell_type": "markdown",
   "id": "4fdb9439",
   "metadata": {},
   "source": [
    "Type Code      type\n",
    "* 'b'  Signed char\n",
    "*  'B' Unsigned char\n",
    "* 'u'  Unicode\n",
    "*  'h' signed short\n",
    "*  'H\" Undigned short\n",
    "* 'i' Signed int\n",
    "*  'I' Unsigned Int\n",
    "*  'l' signed long\n",
    "*  'L' unsigned Long\n",
    "*  'q' signed long long\n",
    "*  'Q' Unsigned long long\n",
    "*  'f' float\n",
    "*  'd' double"
   ]
  },
  {
   "cell_type": "code",
   "execution_count": 11,
   "id": "3d168989",
   "metadata": {},
   "outputs": [
    {
     "name": "stdout",
     "output_type": "stream",
     "text": [
      "array('i', [1, 2, 3, 4, 5, 6, 7, 2, 7])\n",
      "array('i', [1, 2, 3, 4, 5, 6, 2, 7, 2, 7])\n"
     ]
    }
   ],
   "source": [
    "#Array insertion\n",
    "#end of array\n",
    "arr1.insert(6,7) #index, value\n",
    "print(arr1)\n",
    "\n",
    "arr1.insert(6,2)\n",
    "print(arr1)"
   ]
  },
  {
   "cell_type": "code",
   "execution_count": 20,
   "id": "48dfe1c5",
   "metadata": {},
   "outputs": [
    {
     "name": "stdout",
     "output_type": "stream",
     "text": [
      "array('i', [0, 1, 2, 3, 4, 5, 6, 7])\n"
     ]
    }
   ],
   "source": [
    "#start of array\n",
    "arr1.insert(0,0)\n",
    "print(arr1)\n"
   ]
  },
  {
   "cell_type": "code",
   "execution_count": 21,
   "id": "7b91fabd",
   "metadata": {},
   "outputs": [
    {
     "name": "stdout",
     "output_type": "stream",
     "text": [
      "array('i', [0, 1, 2, 3, 6, 4, 5, 6, 7])\n"
     ]
    }
   ],
   "source": [
    "#ad middel of array\n",
    "\n",
    "arr1.insert(4,6)\n",
    "print(arr1)"
   ]
  },
  {
   "cell_type": "code",
   "execution_count": 22,
   "id": "33de9792",
   "metadata": {},
   "outputs": [
    {
     "name": "stdout",
     "output_type": "stream",
     "text": [
      "0\n",
      "1\n",
      "2\n",
      "3\n",
      "6\n",
      "4\n",
      "5\n",
      "6\n",
      "7\n"
     ]
    }
   ],
   "source": [
    "#array Traversal\n",
    "\n",
    "def traverse (arr):\n",
    "    for i in arr:\n",
    "        print(i)\n",
    "traverse(arr1)\n",
    "#O(n )"
   ]
  },
  {
   "cell_type": "code",
   "execution_count": 23,
   "id": "b51aa8df",
   "metadata": {},
   "outputs": [
    {
     "name": "stdout",
     "output_type": "stream",
     "text": [
      "4\n"
     ]
    }
   ],
   "source": [
    "#Access elemrnt in array\n",
    "\n",
    "def access(arr,x):\n",
    "    assert x<len(arr),\"enter index is out of index\"\n",
    "    print(arr[x])\n",
    "\n",
    "access(arr1,5)"
   ]
  },
  {
   "cell_type": "code",
   "execution_count": 24,
   "id": "f2529a94",
   "metadata": {},
   "outputs": [
    {
     "data": {
      "text/plain": [
       "'Element found at index 6'"
      ]
     },
     "execution_count": 24,
     "metadata": {},
     "output_type": "execute_result"
    }
   ],
   "source": [
    "#searching element in array\n",
    "#1 search by index\n",
    "#2 if array is sorted use binary search\n",
    "\n",
    "def search(arr, x):\n",
    "    for i, val in enumerate(arr):\n",
    "        if val == x:\n",
    "            return \"Element found at index \" + str(i)\n",
    "    return \"Element not found\"\n",
    "\n",
    "search(arr1,5)"
   ]
  },
  {
   "cell_type": "code",
   "execution_count": 25,
   "id": "50fa15e8",
   "metadata": {},
   "outputs": [
    {
     "name": "stdout",
     "output_type": "stream",
     "text": [
      "array('i', [0, 1, 2, 3, 4, 5, 6, 7])\n"
     ]
    }
   ],
   "source": [
    "#deleting a element in array\n",
    "\n",
    "def delete(arr,x):\n",
    "    assert x in arr, \"element not in array\"\n",
    "    arr.remove(x)\n",
    "    print(arr)\n",
    "delete(arr1,6)"
   ]
  },
  {
   "cell_type": "markdown",
   "id": "ac9758a8",
   "metadata": {},
   "source": [
    "Operation      / Time /  Space\n",
    "* Create a empty array O(1), O(n)\n",
    "* Insert    O(1)/O(n), O(1)\n",
    "* Traverse. O(n), O(1)\n",
    "* Accessing. O(1), O(1)\n",
    "* Searching  O(n), O(1)\n",
    "* delete   O(1)/O(n), O(1)"
   ]
  },
  {
   "cell_type": "markdown",
   "id": "e675b4a8",
   "metadata": {},
   "source": [
    "Array Operations:\n",
    "\n",
    "* Append: adds ur element at end of array\n",
    "* Insert: insert element at any position\n",
    "* Extend: we can append the array to our current array\n",
    "* fromlist() : appends list to array\n",
    "* Remove: removes the 1st occurance of given element\n",
    "* Pop: removes last element\n",
    "* index(): gives index of element in array\n",
    "* Reverse(): \n",
    "* Buffer_info(): start of buffer in memory and number of elements\n",
    "* Count(): count the element in given array\n",
    "* tostring(): convert array to string\n",
    "* fromstring(): append string to current array\n",
    "* tolist(): convert array to list\n",
    "* [:] : slice operator\n"
   ]
  },
  {
   "cell_type": "code",
   "execution_count": 26,
   "id": "90e84f60",
   "metadata": {},
   "outputs": [
    {
     "name": "stdout",
     "output_type": "stream",
     "text": [
      "[[ 1  2  3  4]\n",
      " [ 5  6  7  8]\n",
      " [ 9 10 11 12]]\n"
     ]
    }
   ],
   "source": [
    "#2-D Array\n",
    "\n",
    "import numpy as np\n",
    "\n",
    "arr2D= np.array([[1,2,3,4],[5,6,7,8,],[9,10,11,12]])\n",
    "print(arr2D)\n",
    " "
   ]
  },
  {
   "cell_type": "code",
   "execution_count": 27,
   "id": "dd20a491",
   "metadata": {},
   "outputs": [
    {
     "name": "stdout",
     "output_type": "stream",
     "text": [
      "[[13 14 15 16]\n",
      " [ 1  2  3  4]\n",
      " [ 5  6  7  8]\n",
      " [ 9 10 11 12]]\n",
      "[[17 13 14 15 16]\n",
      " [18  1  2  3  4]\n",
      " [19  5  6  7  8]\n",
      " [20  9 10 11 12]]\n"
     ]
    }
   ],
   "source": [
    "#adding column / row in 2D array\n",
    "#np.insert(array, index, values, axis 0 if row, 1 if column)\n",
    "arr2d= np.insert(arr2D,0,[13,14,15,16,],axis=0)\n",
    "print(arr2d)\n",
    "arr2d = np.insert(arr2d,0,[17,18,19,20],axis=1)\n",
    "print(arr2d)"
   ]
  },
  {
   "cell_type": "code",
   "execution_count": 28,
   "id": "17162038",
   "metadata": {},
   "outputs": [
    {
     "name": "stdout",
     "output_type": "stream",
     "text": [
      "11\n"
     ]
    }
   ],
   "source": [
    "#Access element in 2-D array\n",
    "\n",
    "def access(arr,row, column):\n",
    "    if row >=len(arr) or column >=len(arr[0]):\n",
    "        print(\"enter correct index\")\n",
    "    else:\n",
    "        print(arr[row][column])\n",
    "access(arr2d,3,3)"
   ]
  },
  {
   "cell_type": "code",
   "execution_count": 29,
   "id": "0ed87971",
   "metadata": {},
   "outputs": [
    {
     "name": "stdout",
     "output_type": "stream",
     "text": [
      "17\n",
      "13\n",
      "14\n",
      "15\n",
      "16\n",
      "18\n",
      "1\n",
      "2\n",
      "3\n",
      "4\n",
      "19\n",
      "5\n",
      "6\n",
      "7\n",
      "8\n",
      "20\n",
      "9\n",
      "10\n",
      "11\n",
      "12\n"
     ]
    }
   ],
   "source": [
    "#trverse in 2-D array\n",
    "\n",
    "def treverse (arr):\n",
    "    for i in range(len(arr)):\n",
    "        for j in range(len(arr[0])):\n",
    "            print(arr[i][j])\n",
    "\n",
    "treverse(arr2d)"
   ]
  },
  {
   "cell_type": "code",
   "execution_count": 30,
   "id": "f2fa14ac",
   "metadata": {},
   "outputs": [
    {
     "data": {
      "text/plain": [
       "' element found'"
      ]
     },
     "execution_count": 30,
     "metadata": {},
     "output_type": "execute_result"
    }
   ],
   "source": [
    "# search a elemnt in 2D array\n",
    "\n",
    "def search(arr, x):\n",
    "    for i in range(len(arr)):\n",
    "        for j in range(len(arr[0])):\n",
    "            if arr[i][j]==x:\n",
    "                return \" element found\"\n",
    "    return \"element not found\"\n",
    "\n",
    "search(arr2D,6)"
   ]
  },
  {
   "cell_type": "code",
   "execution_count": 31,
   "id": "c4fcbbbc",
   "metadata": {},
   "outputs": [
    {
     "name": "stdout",
     "output_type": "stream",
     "text": [
      "[[18  1  2  3  4]\n",
      " [19  5  6  7  8]\n",
      " [20  9 10 11 12]]\n"
     ]
    }
   ],
   "source": [
    "#deletion a row/colum in 2 D array\n",
    "#delete(array,row/column, axis 0 for row, 1 for column)\n",
    "arr2d= np.delete(arr2d,0,axis=0)\n",
    "print(arr2d)"
   ]
  },
  {
   "cell_type": "markdown",
   "id": "1c0b8990",
   "metadata": {},
   "source": [
    " When to use & avoid arrays:\n",
    " \n",
    " Use:\n",
    " * multiple variables of same data type\n",
    " * access random varable \n",
    " \n",
    " Avoid:\n",
    " * different data types\n",
    " * reserve memory\n",
    " "
   ]
  },
  {
   "cell_type": "markdown",
   "id": "acca2345",
   "metadata": {},
   "source": [
    "List: is a DS that holds an ordered collection of items\n",
    "\n",
    "\n"
   ]
  },
  {
   "cell_type": "code",
   "execution_count": 32,
   "id": "2d7fa01d",
   "metadata": {},
   "outputs": [
    {
     "name": "stdout",
     "output_type": "stream",
     "text": [
      "[1, 2, 3, 'Hi', 'hell0', 1.43]\n"
     ]
    }
   ],
   "source": [
    "\n",
    "x=[1,2,3,\"Hi\",\"hell0\",1.43]\n",
    "print(x)"
   ]
  },
  {
   "cell_type": "code",
   "execution_count": 33,
   "id": "17395e50",
   "metadata": {},
   "outputs": [
    {
     "name": "stdout",
     "output_type": "stream",
     "text": [
      "1\n",
      "2\n",
      "3\n",
      "Hi\n",
      "hell0\n",
      "1.43\n"
     ]
    }
   ],
   "source": [
    "#Traversal list\n",
    "\n",
    "def Traversal (l1):\n",
    "    for i in l1:\n",
    "        print(i)\n",
    "Traversal(x)"
   ]
  },
  {
   "cell_type": "code",
   "execution_count": 34,
   "id": "dc745d6e",
   "metadata": {},
   "outputs": [
    {
     "data": {
      "text/plain": [
       "'element not in list'"
      ]
     },
     "execution_count": 34,
     "metadata": {},
     "output_type": "execute_result"
    }
   ],
   "source": [
    "#exits in list\n",
    "\n",
    "def exit(l1,x1):\n",
    "    if x1 in l1:\n",
    "        return \"element in list\"\n",
    "    return \"element not in list\"\n",
    "\n",
    "exit(x,5)"
   ]
  },
  {
   "cell_type": "code",
   "execution_count": 35,
   "id": "6d007e56",
   "metadata": {},
   "outputs": [
    {
     "name": "stdout",
     "output_type": "stream",
     "text": [
      "[1, 2, 3, 'Hi', 'hell0', 1.43]\n",
      "[1, 5, 3, 'Hi', 'hell0', 1.43]\n",
      "[1, 5, 3, 7, 'Hi', 'hell0', 1.43]\n",
      "[1, 5, 3, 7, 'Hi', 'hell0', 1.43, 75]\n",
      "[1, 5, 3, 7, 'Hi', 'hell0', 1.43, 75, 5, 6, 7, 8, 9, 10]\n"
     ]
    }
   ],
   "source": [
    "#update / insert list\n",
    "print(x)\n",
    "#update O(1)\n",
    "x[1]=5\n",
    "print(x)\n",
    "\n",
    "#insert O(n)\n",
    "x.insert(3,7)\n",
    "print(x)\n",
    "\n",
    "#append O(1)\n",
    "x.append(75)\n",
    "print(x)\n",
    "\n",
    "#extend O(n)\n",
    "y=[5,6,7,8,9,10]\n",
    "x.extend(y)\n",
    "print(x)"
   ]
  },
  {
   "cell_type": "code",
   "execution_count": 36,
   "id": "5747cc09",
   "metadata": {},
   "outputs": [
    {
     "name": "stdout",
     "output_type": "stream",
     "text": [
      "['Remo', 75, 89, 7, 'Hi', 'hell0', 1.43, 75, 5, 6, 7, 8, 9, 10]\n"
     ]
    }
   ],
   "source": [
    "#slice and deletion of list\n",
    "\n",
    "x[0:3]=[\"Remo\",75,89]\n",
    "print(x)\n"
   ]
  },
  {
   "cell_type": "code",
   "execution_count": 37,
   "id": "f82fd754",
   "metadata": {},
   "outputs": [
    {
     "name": "stdout",
     "output_type": "stream",
     "text": [
      "['Remo', 75, 89, 7, 'hell0', 1.43, 75, 5, 6, 7, 8, 9, 10]\n"
     ]
    }
   ],
   "source": [
    "#pop\n",
    "#need index of elment to delete\n",
    "#if no index provided deletes lat element\n",
    "x.pop(4)\n",
    "print(x)\n"
   ]
  },
  {
   "cell_type": "code",
   "execution_count": 38,
   "id": "f5888568",
   "metadata": {},
   "outputs": [
    {
     "name": "stdout",
     "output_type": "stream",
     "text": [
      "['Remo', 75, 89, 7, 75, 5, 6, 7, 8, 9, 10]\n"
     ]
    }
   ],
   "source": [
    "#delete\n",
    "#needs index\n",
    "del x[4:6]\n",
    "print(x)\n",
    "#remove"
   ]
  },
  {
   "cell_type": "code",
   "execution_count": 39,
   "id": "270d437c",
   "metadata": {},
   "outputs": [
    {
     "name": "stdout",
     "output_type": "stream",
     "text": [
      "[75, 89, 7, 75, 5, 6, 7, 8, 9, 10]\n"
     ]
    }
   ],
   "source": [
    "#remove\n",
    "#if know value we can remove directly\n",
    "\n",
    "x.remove(\"Remo\")\n",
    "print(x)"
   ]
  },
  {
   "cell_type": "code",
   "execution_count": 40,
   "id": "7acc0dc4",
   "metadata": {},
   "outputs": [
    {
     "name": "stdout",
     "output_type": "stream",
     "text": [
      "0\n"
     ]
    },
    {
     "data": {
      "text/plain": [
       "7"
      ]
     },
     "execution_count": 40,
     "metadata": {},
     "output_type": "execute_result"
    }
   ],
   "source": [
    "#searching element in list\n",
    "#in operator\n",
    "#searching algo\n",
    "\n",
    "#in\n",
    "if 75 in x:\n",
    "    print(x.index(75))\n",
    "\n",
    "#linear search\n",
    "\n",
    "def search(l1,x):\n",
    "    for i in l1:\n",
    "        if i==x:\n",
    "            return l1.index(x)\n",
    "    return \"not in list\"\n",
    "\n",
    "search(x,8)"
   ]
  },
  {
   "cell_type": "code",
   "execution_count": 41,
   "id": "828718dc",
   "metadata": {},
   "outputs": [
    {
     "name": "stdout",
     "output_type": "stream",
     "text": [
      "[75, 89, 7, 75, 5, 6, 7, 8, 9, 10, 1, 23, 7, 'hi']\n"
     ]
    }
   ],
   "source": [
    "#list operations\n",
    "\n",
    "#+ Concatinate list\n",
    "y=[1,23,7,\"hi\"]\n",
    "x=x+y\n",
    "print(x)\n"
   ]
  },
  {
   "cell_type": "code",
   "execution_count": 42,
   "id": "01711865",
   "metadata": {},
   "outputs": [
    {
     "name": "stdout",
     "output_type": "stream",
     "text": [
      "[75, 89, 7, 75, 5, 6, 7, 8, 9, 10, 1, 23, 7, 'hi', 75, 89, 7, 75, 5, 6, 7, 8, 9, 10, 1, 23, 7, 'hi']\n"
     ]
    }
   ],
   "source": [
    "#* operator (repats number of times)\n",
    "\n",
    "x=x*2\n",
    "print(x)"
   ]
  },
  {
   "cell_type": "code",
   "execution_count": 43,
   "id": "bc3da62e",
   "metadata": {},
   "outputs": [
    {
     "name": "stdout",
     "output_type": "stream",
     "text": [
      "28\n"
     ]
    }
   ],
   "source": [
    "#len length of list\n",
    "print(len(x))"
   ]
  },
  {
   "cell_type": "code",
   "execution_count": 44,
   "id": "f7f54d14",
   "metadata": {},
   "outputs": [
    {
     "data": {
      "text/plain": [
       "89"
      ]
     },
     "execution_count": 44,
     "metadata": {},
     "output_type": "execute_result"
    }
   ],
   "source": [
    "#max\n",
    "x=[1,2,3,4,5,8,9,75,89,3,4,57]\n",
    "max(x)\n",
    "\n"
   ]
  },
  {
   "cell_type": "code",
   "execution_count": 45,
   "id": "64ed260c",
   "metadata": {},
   "outputs": [
    {
     "data": {
      "text/plain": [
       "1"
      ]
     },
     "execution_count": 45,
     "metadata": {},
     "output_type": "execute_result"
    }
   ],
   "source": [
    "#min\n",
    "min(x)"
   ]
  },
  {
   "cell_type": "code",
   "execution_count": 46,
   "id": "4254a722",
   "metadata": {},
   "outputs": [
    {
     "data": {
      "text/plain": [
       "260"
      ]
     },
     "execution_count": 46,
     "metadata": {},
     "output_type": "execute_result"
    }
   ],
   "source": [
    "#sum\n",
    "sum(x)"
   ]
  },
  {
   "cell_type": "code",
   "execution_count": 47,
   "id": "36a25245",
   "metadata": {},
   "outputs": [
    {
     "data": {
      "text/plain": [
       "1"
      ]
     },
     "execution_count": 47,
     "metadata": {},
     "output_type": "execute_result"
    }
   ],
   "source": [
    "#count\n",
    "\n",
    "x.count(75)"
   ]
  },
  {
   "cell_type": "code",
   "execution_count": 48,
   "id": "de7565e2",
   "metadata": {},
   "outputs": [
    {
     "name": "stdout",
     "output_type": "stream",
     "text": [
      "['H', 'e', 'l', 'l', 'o', ' ', 'R', 'e', 'm', 'o']\n"
     ]
    }
   ],
   "source": [
    "#list from string\n",
    "\n",
    "x=\"Hello Remo\"\n",
    "x=list(x)\n",
    "print(x)"
   ]
  },
  {
   "cell_type": "code",
   "execution_count": 49,
   "id": "fced3cfa",
   "metadata": {},
   "outputs": [
    {
     "name": "stdout",
     "output_type": "stream",
     "text": [
      "['Hello', 'Remo']\n",
      "['Hello', 'Remo', 'hi']\n"
     ]
    }
   ],
   "source": [
    "#split\n",
    "x=\"Hello Remo\"\n",
    "x=x.split()\n",
    "print(x)\n",
    "\n",
    "x=\"Hello.Remo.hi\"\n",
    "x=x.split('.')\n",
    "print(x)\n",
    "\n"
   ]
  },
  {
   "cell_type": "code",
   "execution_count": 50,
   "id": "25ee5a92",
   "metadata": {},
   "outputs": [
    {
     "name": "stdout",
     "output_type": "stream",
     "text": [
      "Hello.Remo.hi\n"
     ]
    }
   ],
   "source": [
    "#join\n",
    "y='.'.join(x)\n",
    "print(y)"
   ]
  },
  {
   "cell_type": "markdown",
   "id": "4d35be9b",
   "metadata": {},
   "source": [
    "array vs list\n",
    "* Both are mutable\n",
    "* arrays are good for arthematic operations\n",
    "\n"
   ]
  },
  {
   "cell_type": "code",
   "execution_count": 51,
   "id": "f8ad1ba9",
   "metadata": {},
   "outputs": [],
   "source": [
    "#missing Numbers\n",
    "\n",
    "def find_missing(l1,n):\n",
    "    s=(n*(n+1))/2\n",
    "    s1=sum(l1)\n",
    "    miss= s-s1\n",
    "    return miss"
   ]
  },
  {
   "cell_type": "code",
   "execution_count": 52,
   "id": "e28829ba",
   "metadata": {},
   "outputs": [
    {
     "name": "stdout",
     "output_type": "stream",
     "text": [
      "0 6\n",
      "1 5\n",
      "3 5\n"
     ]
    }
   ],
   "source": [
    "#Pairs /Two sum\n",
    "\n",
    "def pairs(l1,t):\n",
    "    for i in range(len(l1)):\n",
    "        for j in range(i+1,len(l1)):\n",
    "            if l1[i]==l1[j]:\n",
    "                continue\n",
    "            if l1[i]+ l1[j]==t:\n",
    "                print(i,j)\n",
    "x=[1,2,3,2,3,4,5,6]\n",
    "t=6\n",
    "pairs(x,t)"
   ]
  },
  {
   "cell_type": "code",
   "execution_count": 53,
   "id": "58933a7b",
   "metadata": {},
   "outputs": [],
   "source": [
    "#Finding a number in array\n",
    "\n",
    "def find(arr,x):\n",
    "    for i in arr:\n",
    "        if i==x:\n",
    "            return l1.index(i)\n",
    "    return \"eelement not found\"\n",
    "        "
   ]
  },
  {
   "cell_type": "code",
   "execution_count": 12,
   "id": "9e11ee5e",
   "metadata": {},
   "outputs": [
    {
     "name": "stdout",
     "output_type": "stream",
     "text": [
      "[(1, 4, 7), (2, 5, 8), (3, 6, 9)]\n",
      "[[1 4 7]\n",
      " [2 5 8]\n",
      " [3 6 9]]\n",
      "[[7 4 1]\n",
      " [8 5 2]\n",
      " [9 6 3]]\n"
     ]
    }
   ],
   "source": [
    "#rotate a matrix 90 degree\n",
    "import numpy as np\n",
    "def rotate_matrix(matrix):\n",
    "    n = len(matrix)\n",
    "    # Transpose the matrix using zip\n",
    "    matrix[:] = list(zip(*matrix))\n",
    "    print(matrix)\n",
    "    # Reverse each row of the transposed matrix\n",
    "    for i in range(n):\n",
    "        matrix[i] = matrix[i][::-1]\n",
    "    return matrix\n",
    "\n",
    "x=np.array([[1,2,3],[4,5,6],[7,8,9]])\n",
    "#print(list(zip(x)))\n",
    "print(list(zip(*x)))\n",
    "rotate_matrix(x)\n",
    "print(x)"
   ]
  },
  {
   "cell_type": "markdown",
   "id": "8ac1d435",
   "metadata": {},
   "source": [
    "Dictonary: Key & value pairs\n",
    "\n",
    "example: order id of ur order in KFC /Burger King\n",
    "\n",
    "Key: order id\n",
    "\n",
    "value: details of ur order"
   ]
  },
  {
   "cell_type": "code",
   "execution_count": 55,
   "id": "5af2527e",
   "metadata": {},
   "outputs": [
    {
     "name": "stdout",
     "output_type": "stream",
     "text": [
      "{}\n",
      "{}\n",
      "{1: 'Hi', 2: 'hello', 3: 'ola'}\n"
     ]
    }
   ],
   "source": [
    "#Creation of dictonary\n",
    "#dictonary is unorder collection of key value pairs\n",
    "x=dict()\n",
    "print(x)\n",
    "\n",
    "x={}\n",
    "print(x)\n",
    "\n",
    "x={1:\"Hi\",2:\"hello\",3:\"ola\"}\n",
    "print(x)"
   ]
  },
  {
   "cell_type": "code",
   "execution_count": 56,
   "id": "59768d17",
   "metadata": {},
   "outputs": [
    {
     "name": "stdout",
     "output_type": "stream",
     "text": [
      "Hi\n",
      "hello\n"
     ]
    }
   ],
   "source": [
    "#access the element in dict\n",
    "# we can access using. key value\n",
    "print(x[1])\n",
    "print(x[2])"
   ]
  },
  {
   "cell_type": "markdown",
   "id": "5f02b8d2",
   "metadata": {},
   "source": [
    "Python dict are implemented by using Hash function\n",
    "\n",
    "Hash table is way of doing key-value lookups\n",
    "\n",
    "Why dict unordered?\n",
    "\n",
    "we use hash function and array to store the dict , so hash function generate the hash code based on code it is stored, so hash code may be random so it is unordered\n",
    "\n"
   ]
  },
  {
   "cell_type": "code",
   "execution_count": 57,
   "id": "77e344da",
   "metadata": {},
   "outputs": [
    {
     "name": "stdout",
     "output_type": "stream",
     "text": [
      "{1: 'Hi', 2: 'remo', 3: 'ola'}\n",
      "{1: 'Hi', 2: 'remo', 3: 'ola', 4: 'Nwe York'}\n"
     ]
    }
   ],
   "source": [
    "#update and insert dict\n",
    "\n",
    "#update\n",
    "x[2]=\"remo\"\n",
    "print(x)\n",
    "\n",
    "#if key exits it will update else it will create ne key pairs\n",
    "\n",
    "x[4]=\"Nwe York\"\n",
    "print(x)"
   ]
  },
  {
   "cell_type": "code",
   "execution_count": 58,
   "id": "41be72cb",
   "metadata": {},
   "outputs": [
    {
     "name": "stdout",
     "output_type": "stream",
     "text": [
      "1 Hi\n",
      "2 remo\n",
      "3 ola\n",
      "4 Nwe York\n"
     ]
    }
   ],
   "source": [
    "#traverse dict\n",
    "\n",
    "def treverse (dic):\n",
    "    for key in dic:\n",
    "        print(key,dic[key])\n",
    "treverse(x)"
   ]
  },
  {
   "cell_type": "code",
   "execution_count": 59,
   "id": "f0597afe",
   "metadata": {},
   "outputs": [
    {
     "data": {
      "text/plain": [
       "(2, 'remo')"
      ]
     },
     "execution_count": 59,
     "metadata": {},
     "output_type": "execute_result"
    }
   ],
   "source": [
    "#search element in dict\n",
    "\n",
    "def find(dic,x):\n",
    "    for key in dic:\n",
    "        if dic[key]==x:\n",
    "            return key, dic[key]\n",
    "    return \" not in dic\"\n",
    "\n",
    "find(x,\"remo\")"
   ]
  },
  {
   "cell_type": "code",
   "execution_count": 60,
   "id": "93057e54",
   "metadata": {},
   "outputs": [
    {
     "name": "stdout",
     "output_type": "stream",
     "text": [
      "{1: 'Hi', 2: 'remo', 4: 'Nwe York'}\n"
     ]
    }
   ],
   "source": [
    "#delete element in dic\n",
    "\n",
    "#pop(key)\n",
    "x.pop(3)\n",
    "print(x)"
   ]
  },
  {
   "cell_type": "code",
   "execution_count": 61,
   "id": "0abab052",
   "metadata": {},
   "outputs": [
    {
     "name": "stdout",
     "output_type": "stream",
     "text": [
      "(4, 'Nwe York')\n"
     ]
    }
   ],
   "source": [
    "#popitem()\n",
    "print(x.popitem())\n"
   ]
  },
  {
   "cell_type": "code",
   "execution_count": 62,
   "id": "14ec9e51",
   "metadata": {},
   "outputs": [
    {
     "name": "stdout",
     "output_type": "stream",
     "text": [
      "{}\n"
     ]
    }
   ],
   "source": [
    "#clear() all elemnts deleted\n",
    "x.clear()\n",
    "print(x)"
   ]
  },
  {
   "cell_type": "code",
   "execution_count": 63,
   "id": "4307dd4f",
   "metadata": {},
   "outputs": [
    {
     "name": "stdout",
     "output_type": "stream",
     "text": [
      "{2: 'remo', 4: 'Nwe York'}\n"
     ]
    }
   ],
   "source": [
    "#del\n",
    "x={1: 'Hi', 2: 'remo', 4: 'Nwe York'}\n",
    "del x[1]\n",
    "print(x)"
   ]
  },
  {
   "cell_type": "code",
   "execution_count": 64,
   "id": "37c9d39d",
   "metadata": {},
   "outputs": [],
   "source": [
    "#delte all elemrnt in dict\n",
    "\n",
    "del x\n",
    "#print(x)"
   ]
  },
  {
   "cell_type": "code",
   "execution_count": 65,
   "id": "b4475980",
   "metadata": {},
   "outputs": [
    {
     "name": "stdout",
     "output_type": "stream",
     "text": [
      "{1: [0, 1, 2], 2: [0, 1, 2], 3: [0, 1, 2]}\n"
     ]
    }
   ],
   "source": [
    "#fromkeys\n",
    "y={}.fromkeys([1,2,3],[0,1,2])\n",
    "print(y)"
   ]
  },
  {
   "cell_type": "code",
   "execution_count": 66,
   "id": "68d98b14",
   "metadata": {},
   "outputs": [
    {
     "name": "stdout",
     "output_type": "stream",
     "text": [
      "[0, 1, 2]\n"
     ]
    }
   ],
   "source": [
    "#get\n",
    "print(y.get(1))"
   ]
  },
  {
   "cell_type": "code",
   "execution_count": 67,
   "id": "c2cf15c8",
   "metadata": {},
   "outputs": [
    {
     "name": "stdout",
     "output_type": "stream",
     "text": [
      "dict_items([(1, [0, 1, 2]), (2, [0, 1, 2]), (3, [0, 1, 2])])\n"
     ]
    }
   ],
   "source": [
    "#items\n",
    "\n",
    "print(y.items())"
   ]
  },
  {
   "cell_type": "code",
   "execution_count": 68,
   "id": "02f1cedc",
   "metadata": {},
   "outputs": [
    {
     "name": "stdout",
     "output_type": "stream",
     "text": [
      "dict_keys([1, 2, 3])\n"
     ]
    }
   ],
   "source": [
    "#keys\n",
    "\n",
    "print(y.keys())"
   ]
  },
  {
   "cell_type": "code",
   "execution_count": 69,
   "id": "ea9c1a6d",
   "metadata": {},
   "outputs": [
    {
     "name": "stdout",
     "output_type": "stream",
     "text": [
      "[0, 1, 2]\n",
      "hello\n",
      "{1: [0, 1, 2], 2: [0, 1, 2], 3: [0, 1, 2], 4: 'hello'}\n"
     ]
    }
   ],
   "source": [
    "#setdefault\n",
    "print(y.setdefault(1,\"hello\"))\n",
    "print(y.setdefault(4,\"hello\"))\n",
    "print(y)"
   ]
  },
  {
   "cell_type": "markdown",
   "id": "cd09a162",
   "metadata": {},
   "source": [
    "Dictonary methods\n",
    "\n",
    "* Clear(): clears all elements in Dict\n",
    "* Copy(): creates a copy of dict\n",
    "* fromkeys()\n",
    "* get():\n",
    "* Items():\n",
    "* Keys ():\n",
    "* popitem():\n",
    "* setdefault():\n",
    "* pop()\n",
    "* Values ():\n",
    "* update():"
   ]
  },
  {
   "cell_type": "code",
   "execution_count": 70,
   "id": "99d116d3",
   "metadata": {},
   "outputs": [
    {
     "name": "stdout",
     "output_type": "stream",
     "text": [
      "4\n",
      "True\n",
      "True\n"
     ]
    }
   ],
   "source": [
    "#dict operations\n",
    "#in operators works with keys defualt\n",
    "\n",
    "#len()\n",
    "print(len(y))\n",
    "\n",
    "#all()\n",
    "#true only all keys are true else false\n",
    "print(all(y))\n",
    "\n",
    "#any\n",
    "#false only all are false, else true\n",
    "print(any(y))\n"
   ]
  },
  {
   "cell_type": "markdown",
   "id": "32f7507c",
   "metadata": {},
   "source": [
    "Tuple: Sequane of python objects which are immutable\n",
    "\n",
    "-> comparable and hashable\n"
   ]
  },
  {
   "cell_type": "code",
   "execution_count": 71,
   "id": "a91a06b2",
   "metadata": {},
   "outputs": [
    {
     "name": "stdout",
     "output_type": "stream",
     "text": [
      "('a', 'b', 'c', 1)\n",
      "('a', 'b', 'c', 1)\n",
      "('a',)\n",
      "('H', 'e', 'l', 'l', 'o')\n"
     ]
    }
   ],
   "source": [
    "#tuple creation\n",
    "\n",
    "x= \"a\",\"b\",\"c\",1\n",
    "print(x)\n",
    "\n",
    "x=(\"a\",\"b\",\"c\",1)\n",
    "print(x)\n",
    "\n",
    "#tuple contains single element:\n",
    "\n",
    "y=('a',)\n",
    "print(y)\n",
    "\n",
    "#using tuple\n",
    "\n",
    "x=tuple(\"Hello\")\n",
    "print(x)"
   ]
  },
  {
   "cell_type": "code",
   "execution_count": 72,
   "id": "240c2dbf",
   "metadata": {},
   "outputs": [
    {
     "name": "stdout",
     "output_type": "stream",
     "text": [
      "l\n"
     ]
    }
   ],
   "source": [
    "#tuple in memory: \n",
    "#access tuple\n",
    "\n",
    "print(x[2])"
   ]
  },
  {
   "cell_type": "code",
   "execution_count": 73,
   "id": "5e79bc3e",
   "metadata": {},
   "outputs": [
    {
     "name": "stdout",
     "output_type": "stream",
     "text": [
      "H\n",
      "e\n",
      "l\n",
      "l\n",
      "o\n"
     ]
    }
   ],
   "source": [
    "#traverse tuple\n",
    "\n",
    "for i in x:\n",
    "    print(i)"
   ]
  },
  {
   "cell_type": "markdown",
   "id": "d8c6ca3e",
   "metadata": {},
   "source": [
    "tuple operations\n",
    "\n",
    "* +: concatenation\n",
    "* Len():\n"
   ]
  },
  {
   "cell_type": "markdown",
   "id": "71d6545d",
   "metadata": {},
   "source": [
    "#Linked list\n",
    " \n",
    "It is a form of a sequential collection & it does not have any order , it is made up of independent nodes that may contain any type of data & each node has a reference tot he nect node in the link\n",
    "\n",
    "example: train, we have link b/w each boggi, 1st is called as head and last is called as tail\n"
   ]
  },
  {
   "cell_type": "markdown",
   "id": "c6621511",
   "metadata": {},
   "source": [
    "Linked list vs array\n",
    "Linked list:\n",
    "-> each element in linked list is independent\n",
    "-> variable size\n",
    "-> insertion and deletion is faster & efficent\n",
    "-> access is more diffcult than array\n",
    "\n",
    "Array:\n",
    "-> elements are dependent\n",
    "-> fixed size\n",
    "-> access is easy\n",
    "\n"
   ]
  },
  {
   "cell_type": "markdown",
   "id": "43578eef",
   "metadata": {},
   "source": [
    "Types of Linked list\n",
    "\n",
    "1. Single linked list: each nodes stores data and reference of next node\n",
    "\n",
    "2. circular linked list: same as single linked list but the refernce of last node is pointed to the 1st node\n",
    "\n",
    "example: 4 player chess game\n",
    "\n",
    "3. Double linked list: each node has data and 2 reference( both directions) each node stores the reference of previous & next nodes\n",
    "\n",
    "example: implementing music player\n",
    "\n",
    "4. Double circular linked list: simillar to circular linkked list, last node address is referenced to 1st node\n",
    "\n",
    "example: taskbar of our desktop\n",
    "\n",
    "\n"
   ]
  },
  {
   "cell_type": "code",
   "execution_count": 74,
   "id": "ed612b9d",
   "metadata": {},
   "outputs": [
    {
     "name": "stdout",
     "output_type": "stream",
     "text": [
      "[1, 4, 2, 3]\n"
     ]
    }
   ],
   "source": [
    "#linked list in memory: not continous in memory\n",
    "\n",
    "#single linked list\n",
    "\n",
    "#creation\n",
    "#insert a node \n",
    "#beging of list\n",
    "#middle of list\n",
    "#end of list\n",
    "class Node:\n",
    "    def __init__(self, value=None):\n",
    "        self.value = value\n",
    "        self.next = None\n",
    "\n",
    "class SLinkedList:\n",
    "    def delete(self,loc):\n",
    "        if self.head is None:\n",
    "            return \" list is empty unable to delete\"\n",
    "        else:\n",
    "            if loc==0:\n",
    "                if self.head==self.tail:\n",
    "                    self.head=None\n",
    "                    self.tail=None\n",
    "                else:\n",
    "                    self.head=self.head.next\n",
    "            elif loc==-1:\n",
    "                if self.head==self.tail:\n",
    "                    self.head=None\n",
    "                    self.tail=None\n",
    "                else:\n",
    "                    node=self.head\n",
    "                    while node is not None:\n",
    "                        if node.next==self.tail:\n",
    "                            break\n",
    "                        node=node.next\n",
    "                    node.next=None\n",
    "                    self.tail=node\n",
    "            else:\n",
    "                tempnode=self.head\n",
    "                i=0\n",
    "                while i<loc-1:\n",
    "                    tempnode= tempnode.next\n",
    "                    i+=1\n",
    "                nextNode=tempnode.next\n",
    "                tempnode.next=nextNode.next\n",
    "                \n",
    "            \n",
    "    def search(self,x):\n",
    "        if self.head==x or self.tail==x:\n",
    "            return \"exists\"\n",
    "        else:\n",
    "            node=self.head\n",
    "            while node is not None:\n",
    "                if node.value== x:\n",
    "                    return node.value\n",
    "                node=node.next\n",
    "            return \" not in list\"\n",
    "\n",
    "    def __init__(self):\n",
    "        self.head = None\n",
    "        self.tail = None\n",
    "        \n",
    "    def __iter__(self):\n",
    "        node = self.head\n",
    "        while node:\n",
    "            yield node\n",
    "            node = node.next\n",
    "            \n",
    "    def insert(self, value, loc):\n",
    "        new_node = Node(value)\n",
    "        if self.head is None:\n",
    "            self.head = new_node\n",
    "            self.tail = new_node\n",
    "        else:\n",
    "            if loc == 0:\n",
    "                new_node.next = self.head\n",
    "                self.head = new_node\n",
    "            elif loc == -1:\n",
    "                self.tail.next = new_node\n",
    "                self.tail = new_node\n",
    "            else:\n",
    "                temp_node = self.head\n",
    "                index = 0\n",
    "                while index < loc - 1:\n",
    "                    temp_node = temp_node.next\n",
    "                    index += 1\n",
    "                next_node = temp_node.next\n",
    "                temp_node.next = new_node\n",
    "                new_node.next = next_node\n",
    "        \n",
    "\n",
    "slist = SLinkedList()\n",
    "slist.insert(1, 1)\n",
    "slist.insert(2, 1)\n",
    "slist.insert(3,2)\n",
    "slist.insert(4,1)\n",
    "print([node.value for node in slist])\n"
   ]
  },
  {
   "cell_type": "code",
   "execution_count": 75,
   "id": "5d362338",
   "metadata": {},
   "outputs": [
    {
     "name": "stdout",
     "output_type": "stream",
     "text": [
      "1\n",
      "4\n",
      "2\n",
      "3\n"
     ]
    }
   ],
   "source": [
    "#traverse linked list\n",
    "def traverse(self):\n",
    "    if self.head is None:\n",
    "        return \"empty list\"\n",
    "    else:\n",
    "        node= self.head\n",
    "        while node is not None:\n",
    "            print(node.value)\n",
    "            node=node.next\n",
    "traverse(slist)"
   ]
  },
  {
   "cell_type": "code",
   "execution_count": 76,
   "id": "2dc1b683",
   "metadata": {},
   "outputs": [
    {
     "data": {
      "text/plain": [
       "4"
      ]
     },
     "execution_count": 76,
     "metadata": {},
     "output_type": "execute_result"
    }
   ],
   "source": [
    "slist.search(4)"
   ]
  },
  {
   "cell_type": "code",
   "execution_count": 77,
   "id": "3b06e374",
   "metadata": {},
   "outputs": [
    {
     "name": "stdout",
     "output_type": "stream",
     "text": [
      "[1, 2, 3]\n"
     ]
    }
   ],
   "source": [
    "slist.delete(1)\n",
    "print([node.value for node in slist])"
   ]
  },
  {
   "cell_type": "code",
   "execution_count": 78,
   "id": "fbdc2f28",
   "metadata": {},
   "outputs": [
    {
     "name": "stdout",
     "output_type": "stream",
     "text": [
      "[1, 2]\n"
     ]
    }
   ],
   "source": [
    "slist.delete(2)\n",
    "print([node.value for node in slist])"
   ]
  },
  {
   "cell_type": "code",
   "execution_count": 79,
   "id": "1489db74",
   "metadata": {},
   "outputs": [
    {
     "name": "stdout",
     "output_type": "stream",
     "text": [
      "Nodes of the Circular Singly Linked List:\n",
      "1\n",
      "2\n",
      "3\n",
      "Nodes of the Circular Singly Linked List:\n",
      "1\n",
      "2\n",
      "3\n",
      "3\n",
      "Nodes of the Circular Singly Linked List:\n",
      "1\n",
      "2\n",
      "10\n",
      "3\n",
      "3\n",
      "Nodes of the Circular Singly Linked List:\n",
      "1\n",
      "2\n",
      "10\n"
     ]
    }
   ],
   "source": [
    "class Node:\n",
    "    def __init__(self, value=None):\n",
    "        self.value = value\n",
    "        self.next = None\n",
    "    \n",
    "class CircularSinglyLinkedList:\n",
    "    def __init__(self):\n",
    "        self.head = None\n",
    "        self.tail = None\n",
    "    \n",
    "    def __iter__(self):\n",
    "        node = self.head\n",
    "        while node:\n",
    "            yield node\n",
    "            if node.next == self.head:\n",
    "                break\n",
    "            node = node.next\n",
    "    \n",
    "    def create_csl(self, val):\n",
    "        node = Node(val)\n",
    "        if self.head is None:\n",
    "            self.head = node\n",
    "            self.tail = node\n",
    "            node.next = self.head\n",
    "        else:\n",
    "            self.tail.next = node\n",
    "            self.tail = node\n",
    "            node.next = self.head\n",
    "    \n",
    "    def display(self):\n",
    "        if self.head is None:\n",
    "            print(\"List is empty\")\n",
    "        else:\n",
    "            print(\"Nodes of the Circular Singly Linked List:\")\n",
    "            for node in self:\n",
    "                print(node.value)\n",
    "    def insercsl(self,val,loc):\n",
    "        if self.head is None:\n",
    "            return \"Head is None\"\n",
    "        else:\n",
    "            newnode=Node(val)\n",
    "            if loc==0:\n",
    "                newnode.next=self.head\n",
    "                self.head=newnode\n",
    "                self.tail.next=newnode\n",
    "            elif loc==-1:\n",
    "                newnode.next=self.tail.next\n",
    "                self.tail.next=newnode\n",
    "                sel.tail=newnode\n",
    "            else:\n",
    "                tempnode=self.head\n",
    "                index=0\n",
    "                while index<loc-1:\n",
    "                    tempnode=tempnode.next\n",
    "                    index+=1\n",
    "                nextnode=tempnode.next\n",
    "                tempnode.next=newnode\n",
    "                newnode.next=nextnode\n",
    "    def traversescsl(self):\n",
    "        if self.head is None: \n",
    "            return \" No element in CSL\"\n",
    "        else:\n",
    "            temp=self.head\n",
    "            while temp==self.tail:\n",
    "                print(temp.value)\n",
    "                temp=temp.next\n",
    "    def searchcsl(self,x):\n",
    "        if self.head is None:\n",
    "            return \"no elemnet in list\"\n",
    "        else:\n",
    "            temp=self.head\n",
    "            while temp!=self.tail:\n",
    "                if temp.value==x:\n",
    "                    return \"element found\"\n",
    "                temp=temp.next\n",
    "            return \"elemnet not on CSL\"\n",
    "    def deletecsl(self, loc):\n",
    "        if self.head is None:\n",
    "            return \"CSL is empty\"\n",
    "        else:\n",
    "            if loc == 0:\n",
    "                if self.head == self.tail:\n",
    "                    self.head.next = None\n",
    "                    self.head = None\n",
    "                    self.tail = None\n",
    "                else:\n",
    "                    self.head = self.head.next\n",
    "                    self.tail.next = self.head\n",
    "            elif loc == 1:\n",
    "                if self.head == self.tail:\n",
    "                    self.head.next = None\n",
    "                    self.head = None\n",
    "                    self.tail = None\n",
    "                else:\n",
    "                    node = self.head\n",
    "                    while node.next != self.tail:\n",
    "                        node = node.next\n",
    "                    node.next = self.head\n",
    "                    self.tail = node\n",
    "            else:\n",
    "                temp = self.head\n",
    "                index = 0\n",
    "                while index < loc-1:\n",
    "                    temp = temp.next\n",
    "                    index += 1\n",
    "                nextnode = temp.next\n",
    "                temp.next = nextnode\n",
    "\n",
    "csl = CircularSinglyLinkedList()\n",
    "csl.create_csl(1)\n",
    "csl.create_csl(2)\n",
    "csl.create_csl(3)\n",
    "csl.display()\n",
    "csl.insercsl(3,3)\n",
    "csl.display()\n",
    "csl.insercsl(10,2)\n",
    "csl.display()\n",
    "#csl.traversescsl()\n",
    "#csl.searchcsl(10)\n",
    "csl.deletecsl(1)\n",
    "csl.display()\n",
    "\n"
   ]
  },
  {
   "cell_type": "code",
   "execution_count": 80,
   "id": "14f3ae03",
   "metadata": {},
   "outputs": [
    {
     "name": "stdout",
     "output_type": "stream",
     "text": [
      "[1, 0, 3, 2]\n",
      "1\n",
      "0\n",
      "3\n",
      "2\n",
      "\n",
      "\n",
      "2\n",
      "3\n",
      "0\n",
      "1\n"
     ]
    },
    {
     "data": {
      "text/plain": [
       "'deleted'"
      ]
     },
     "execution_count": 80,
     "metadata": {},
     "output_type": "execute_result"
    }
   ],
   "source": [
    "#double Linked List\n",
    "\n",
    "class Node:\n",
    "    def __init__(self, value=None):\n",
    "        self.value=value\n",
    "        self.next=None\n",
    "        self.prev=None\n",
    "class DLL:\n",
    "    def __init__(self):\n",
    "        self.head=None\n",
    "        self.tail=None\n",
    "    def __iter__(self):\n",
    "        node=self.head\n",
    "        while node:\n",
    "            yield node\n",
    "            node=node.next\n",
    "    def createdll(self,val):\n",
    "        node=Node(val)\n",
    "        node.prev=None\n",
    "        node.next=None\n",
    "        self.head=node\n",
    "        self.tail=node\n",
    "        return \"Node is created\"\n",
    "    def insertdll(self,val,loc):\n",
    "        if self.head is None:\n",
    "            print(\"ca not onseterd\")\n",
    "        else:\n",
    "            newnode=Node(val)\n",
    "            if loc==0:\n",
    "                newnode.prev=None\n",
    "                newnode.next=self.head\n",
    "                self.head.prev=newnode\n",
    "                self.head=newnode\n",
    "            if loc==-1:\n",
    "                newnode.next=None\n",
    "                newnode.prev=self.tail\n",
    "                self.tail.next=newnode\n",
    "                self.tail=newnode\n",
    "            else:\n",
    "                temp=self.head\n",
    "                index=0\n",
    "                while index < loc-1:\n",
    "                    temp=temp.next\n",
    "                    index+=1\n",
    "                newnode.next=temp.next\n",
    "                newnode.prev=temp\n",
    "                newnode.next.prev=newnode\n",
    "                temp.next=newnode\n",
    "    def traversaldll(self):\n",
    "        if self.head is None:\n",
    "            return \" No elent\"\n",
    "        else:\n",
    "            node=self.head\n",
    "            while node:\n",
    "                print(node.value)\n",
    "                node=node.next\n",
    "    def revtraverse(self):\n",
    "        if self.head is None:\n",
    "            return \" no element\"\n",
    "        else:\n",
    "            node=self.tail\n",
    "            while node:\n",
    "                print(node.value)\n",
    "                node=node.prev\n",
    "    def searchdll(self,x):\n",
    "        if self.head is None:\n",
    "            return \"No element\"\n",
    "        else:\n",
    "            node= self.head\n",
    "            while node:\n",
    "                if node.value==x:\n",
    "                    return \" elemnt found\"\n",
    "                node=node.next\n",
    "            return \" not in DLL\"\n",
    "    def deletedll(self, loc):\n",
    "        if self.head is None:\n",
    "            return \" No element to delete\"\n",
    "        else:\n",
    "            if loc==0:\n",
    "                if self.head==self.tail:\n",
    "                    self.head=None\n",
    "                    self.tail=None\n",
    "                else:\n",
    "                    self.head=self.head.next\n",
    "                    self.head.prev=None\n",
    "            if loc==1:\n",
    "                if self.head==self.tail:\n",
    "                    self.head=None\n",
    "                    self.tail=None\n",
    "                else:\n",
    "                    self.tail=self.tail.prev\n",
    "                    self.tail.prev=None\n",
    "            else:\n",
    "                temp=self.head\n",
    "                i=0\n",
    "                while i < loc-1:\n",
    "                    temp=temp.next\n",
    "                    i+=1\n",
    "                temp.next=temp.next.next\n",
    "                temp.next.prev=temp\n",
    "                return \"deleted\"\n",
    "                \n",
    "                    \n",
    "                    \n",
    "                \n",
    "                \n",
    "            \n",
    "                \n",
    "                \n",
    "            \n",
    "            \n",
    "dll = DLL()\n",
    "dll.createdll(1)\n",
    "dll.insertdll(0, 1)\n",
    "dll.insertdll(2, 1)\n",
    "dll.insertdll(3, 2)\n",
    "\n",
    "node_values = [node.value for node in dll]\n",
    "print(node_values)\n",
    "dll.traversaldll()\n",
    "print(\"\\n\")\n",
    "dll.revtraverse()\n",
    "dll.searchdll(2)\n",
    "dll.searchdll(7)\n",
    "dll.deletedll(2)"
   ]
  },
  {
   "cell_type": "code",
   "execution_count": 81,
   "id": "7406130e",
   "metadata": {},
   "outputs": [
    {
     "name": "stdout",
     "output_type": "stream",
     "text": [
      "24->39->22->43->50->14->24->21->27->35\n"
     ]
    }
   ],
   "source": [
    "#linked list interview questions\n",
    "from random import randint\n",
    "class Node:\n",
    "    def __init__(self,value=None):\n",
    "        self.value=value\n",
    "        self.next=None\n",
    "        self.prev=None\n",
    "    def __str__(self):\n",
    "        return str(self.value)\n",
    "class LinkedList:\n",
    "    def __init__(self):\n",
    "        self.head=None\n",
    "        self.tail=None\n",
    "    def __iter__(self):\n",
    "        node=self.head\n",
    "        while node:\n",
    "            yield node\n",
    "            node=node.next\n",
    "    def __str__(self):\n",
    "        values= [str(x.value)for x in self]\n",
    "        return '->'.join(values)\n",
    "    def __len__(self):\n",
    "        res=0\n",
    "        node=self.head\n",
    "        while node:\n",
    "            res+=1\n",
    "            node=node.next\n",
    "    def add(self, value):\n",
    "        if self.head is None:\n",
    "            node=Node(value)\n",
    "            self.head=node\n",
    "            self.tail=node\n",
    "        else:\n",
    "            self.tail.next=Node(value)\n",
    "            self.tail=self.tail.next\n",
    "        return self.tail\n",
    "    def generate(self,n,min_val,max_val):\n",
    "        self.head=None\n",
    "        self.tail=None\n",
    "        for i in range(n):\n",
    "            self.add(randint(min_val,max_val))\n",
    "        return self\n",
    "    #from LinkedList import LinkedList\n",
    "    \n",
    "Ill=LinkedList()\n",
    "Ill.generate(10,0,50)\n",
    "print(Ill)"
   ]
  },
  {
   "cell_type": "code",
   "execution_count": 82,
   "id": "4daa26ca",
   "metadata": {},
   "outputs": [
    {
     "name": "stdout",
     "output_type": "stream",
     "text": [
      "5->5->5->4->0->3->1->1->1->4\n",
      "5->5->4->0->3->1->1->1->4\n"
     ]
    }
   ],
   "source": [
    "#remove dupilcates from linked list\n",
    "\n",
    "#from LinkedList import LinkedList\n",
    "def removedup(ll):\n",
    "    if ll.head is None:\n",
    "        return\n",
    "    else:\n",
    "        node=ll.head\n",
    "        visited=set([node.value])\n",
    "        while node.next:\n",
    "            if node.next.value in visited:\n",
    "                node.next=node.next.next\n",
    "            else:\n",
    "                visited.add(node.next.value)\n",
    "            return ll\n",
    "Ill=LinkedList()\n",
    "Ill.generate(10,0,5)\n",
    "print(Ill)\n",
    "ll=Ill\n",
    "removedup(ll)\n",
    "print(ll)\n",
    "\n",
    "    \n",
    "                "
   ]
  },
  {
   "cell_type": "markdown",
   "id": "d4a2d1b9",
   "metadata": {},
   "source": [
    "#Stack\n",
    "\n",
    "* The stack DS follow LIFO(Last in first out)\n",
    "example: back button on browser, \n",
    "\n",
    "* why stack: our computer memory is a stack memory\n",
    "\n",
    "Stack Operations:\n",
    "\n",
    "* Create Stack\n",
    "* Push\n",
    "* Pop\n",
    "* Peak\n",
    "* IsFull\n",
    "* delete\n"
   ]
  },
  {
   "cell_type": "code",
   "execution_count": 83,
   "id": "14f942e7",
   "metadata": {},
   "outputs": [
    {
     "name": "stdout",
     "output_type": "stream",
     "text": [
      "True\n"
     ]
    },
    {
     "data": {
      "text/plain": [
       "'stack is empty'"
      ]
     },
     "execution_count": 83,
     "metadata": {},
     "output_type": "execute_result"
    }
   ],
   "source": [
    "#stack creation\n",
    "#list list with size, linked list\n",
    "\n",
    "#stack using list\n",
    "# easy\n",
    "# speed problem when it grows\n",
    "\n",
    "#using list\n",
    "\n",
    "class Stack:\n",
    "    def __init__(self):\n",
    "        self.list=[]\n",
    "        \n",
    "    def __str__(self):\n",
    "        val=self.list.reverse()\n",
    "        val=[str(x) for x in self.list]\n",
    "        return '\\n'.join(val)\n",
    "    def isempty(self):\n",
    "        if self.list==[] :\n",
    "            return True\n",
    "        return False\n",
    "    def push(self,val):\n",
    "        self.list.append(val)\n",
    "        return str(val)+\" is pushed into stack\"\n",
    "    def pop(self):\n",
    "        if self.list ==[]:\n",
    "            return \" no elemnt in stack to pop\"\n",
    "        else:\n",
    "            return self.list.pop()\n",
    "    def peak(self):\n",
    "        if self.list==[]:\n",
    "            return \"stack is empty\"\n",
    "        else:\n",
    "            return self.list[-1]\n",
    "    def delete(self):\n",
    "        if self.list==[]:\n",
    "            return \"stack is empty\"\n",
    "        else:\n",
    "            self.list=[]\n",
    "        \n",
    "\n",
    "st=Stack()\n",
    "print(st.isempty())\n",
    "st.push(5)\n",
    "st.push(3)\n",
    "st.push(1)\n",
    "st.push(2)\n",
    "st.push(4)\n",
    "st.pop()\n",
    "st.peak()\n",
    "st.delete()\n",
    "st.peak()"
   ]
  },
  {
   "cell_type": "code",
   "execution_count": 84,
   "id": "e064289d",
   "metadata": {},
   "outputs": [
    {
     "name": "stdout",
     "output_type": "stream",
     "text": [
      "True\n"
     ]
    },
    {
     "data": {
      "text/plain": [
       "'stack is empty'"
      ]
     },
     "execution_count": 84,
     "metadata": {},
     "output_type": "execute_result"
    }
   ],
   "source": [
    "#using list with size\n",
    "\n",
    "class Stack:\n",
    "    def __init__(self,size):\n",
    "        self.size=size\n",
    "        self.list=[]\n",
    "    def __str__(self):\n",
    "        val=self.list.reverse()\n",
    "        val=[str(x) for x in self.list]\n",
    "        return '\\n'.join(val)\n",
    "    def isempty(self):\n",
    "        if self.list ==[]:\n",
    "            return True\n",
    "        else:\n",
    "            return False\n",
    "    def isfull(self):\n",
    "        if len(self.list)==self.size:\n",
    "            return True\n",
    "        else:\n",
    "            return False\n",
    "    def push(self, val):\n",
    "        if self.isfull():\n",
    "            return \"stack is full\"\n",
    "        else:\n",
    "            self.list.append(val)\n",
    "            return str(val) +\" is pushed into stack\"\n",
    "    def pop(self):\n",
    "        if self.isempty():\n",
    "            return \"stack is empty\"\n",
    "        else:\n",
    "            return self.list.pop()\n",
    "    def peak(self):\n",
    "        if self.list==[]:\n",
    "            return \"stack is empty\"\n",
    "        else:\n",
    "            return self.list[-1]\n",
    "    def delete(self):\n",
    "        if self.list==[]:\n",
    "            return \"stack is empty\"\n",
    "        else:\n",
    "            self.list=[]\n",
    "st=Stack(4)\n",
    "print(st.isempty())\n",
    "st.push(5)\n",
    "st.push(3)\n",
    "st.push(1)\n",
    "st.push(2)\n",
    "st.push(4)\n",
    "st.pop()\n",
    "st.peak()\n",
    "st.delete()\n",
    "st.peak()"
   ]
  },
  {
   "cell_type": "code",
   "execution_count": 85,
   "id": "563e5c3b",
   "metadata": {},
   "outputs": [],
   "source": [
    "#using linked list\n",
    "\n",
    "class Node:\n",
    "    def __init__(self,value=None):\n",
    "        self.value=value\n",
    "        self.next=next\n",
    "class LinkedList:\n",
    "    def __init__ (self):\n",
    "        self.head=None\n",
    "    \n",
    "    def __iter__(self):\n",
    "        node=self.head\n",
    "        while node:\n",
    "            yield node.value\n",
    "            node=node.next\n",
    "class Stack:\n",
    "    def __init__ (self):\n",
    "        self.stack= LinkedList()\n",
    "        \n",
    "    def isempty(self):\n",
    "        if self.stack.head==None:\n",
    "            return True\n",
    "        else:\n",
    "            return False\n",
    "    def push(sel,val):\n",
    "        node=Node(value)\n",
    "        node.next=self.stack.head\n",
    "        self.stack.head=node\n",
    "    \n",
    "    def pop(self):\n",
    "        if self.isempty():\n",
    "            return \" Stack is empty\"\n",
    "        else:\n",
    "            nval=self.stack.head.value\n",
    "            self.stack.head=self.stack.next\n",
    "            return nval\n",
    "    def peak (self):\n",
    "        if self.isempty():\n",
    "            return \" Stack is empty\"\n",
    "        else:\n",
    "            return self.stack.head.value\n",
    "        \n",
    "    def delete (self):\n",
    "        if self.isempty():\n",
    "            return \" Stack is empty\"\n",
    "        else:\n",
    "            self.stack.head = None\n",
    "\n",
    "\n",
    "        \n",
    "            "
   ]
  },
  {
   "cell_type": "markdown",
   "id": "4ec3d338",
   "metadata": {},
   "source": [
    "Queue: DS that store data in FIFO\n",
    "\n",
    "example : Queue at bus stop\n",
    "\n",
    "Why: shedule processing\n",
    "\n",
    "Applicaltion call center\n",
    "\n",
    "Operations:\n",
    "* Create Queue\n",
    "* Enqueue\n",
    "* Dequeue\n",
    "* Peak\n",
    "* is Empty\n",
    "* is full\n",
    "* delete queue"
   ]
  },
  {
   "cell_type": "code",
   "execution_count": 2,
   "id": "b19e4a6b",
   "metadata": {},
   "outputs": [
    {
     "name": "stdout",
     "output_type": "stream",
     "text": [
      "True\n",
      "1 2 3\n",
      "2 3\n",
      "3\n"
     ]
    }
   ],
   "source": [
    "#queue with list no size limit\n",
    "\n",
    "class Queue:\n",
    "    def __init__(self):\n",
    "        self.q=[]\n",
    "    def __str__(self):\n",
    "        val=[str(x) for x in self.q]\n",
    "        return \" \".join(val)\n",
    "    def isempty(self):\n",
    "        if self.q==[]:\n",
    "            return True\n",
    "        else:\n",
    "            return False\n",
    "    def enqueue(self,val):\n",
    "        self.q.append(val)\n",
    "    def dequeue(self):\n",
    "        if self.isempty():\n",
    "            return \" Queue is empty\"\n",
    "        else:\n",
    "            return self.q.pop(0)\n",
    "    def peak(self):\n",
    "        if self.isempty():\n",
    "            return \" Queue is empty\"\n",
    "        else:\n",
    "            return self.q[-1]\n",
    "        \n",
    "        \n",
    "q=Queue()\n",
    "print(q.isempty())\n",
    "q.enqueue(1)\n",
    "q.enqueue(2)\n",
    "q.enqueue(3)\n",
    "print(q)\n",
    "q.dequeue()\n",
    "print(q)\n",
    "print(q.peak())\n"
   ]
  },
  {
   "cell_type": "code",
   "execution_count": 87,
   "id": "f46b39e5",
   "metadata": {},
   "outputs": [
    {
     "name": "stdout",
     "output_type": "stream",
     "text": [
      "True\n",
      "1 2 3 None None\n",
      "None 2 3 None None\n",
      "2\n"
     ]
    }
   ],
   "source": [
    "#queue with list size limit\n",
    "\n",
    "class CQueue:\n",
    "    def __init__(self,size):\n",
    "        self.size=size\n",
    "        self.q=[None]*size\n",
    "        self.start=-1\n",
    "        self.top=-1\n",
    "        \n",
    "    def __str__(self):\n",
    "        val=[str(x) for x in self.q]\n",
    "        return \" \".join(val)\n",
    "    def isfull(self):\n",
    "        if self.top +1 ==self.start:\n",
    "            return True\n",
    "        elif self.start==0 and self.top +1==self.size:\n",
    "            return True\n",
    "        else:\n",
    "            return False\n",
    "    def isempty(self):\n",
    "        if self.top==-1:\n",
    "            return True\n",
    "        else:\n",
    "            return False\n",
    "    def enqueue(self,val):\n",
    "        if self.isfull():\n",
    "            return \"Q is full\"\n",
    "        else:\n",
    "            if self.top +1 ==self.size:\n",
    "                self.top=0\n",
    "            else:\n",
    "                self.top+=1\n",
    "                if self.start==-1:\n",
    "                    self.start=0\n",
    "                self.q[self.top]=val\n",
    "        \n",
    "    def dequeue(self):\n",
    "        if self.isempty():\n",
    "            return \" Queue is empty\"\n",
    "        else:\n",
    "            x=self.q[self.start]\n",
    "            start=self.start\n",
    "            if self.start==self.top:\n",
    "                sel.start==-1\n",
    "                self.top==-1\n",
    "            elif self.start-1==self.size:\n",
    "                self.top=-1\n",
    "            else:\n",
    "                self.start +=1\n",
    "            self.q[start]=None\n",
    "            return x\n",
    "    def peak(self):\n",
    "        if self.isempty():\n",
    "            return \" Queue is empty\"\n",
    "        else:\n",
    "            return self.q[self.start]\n",
    "        \n",
    "        \n",
    "        \n",
    "q=CQueue(5)\n",
    "print(q.isempty())\n",
    "q.enqueue(1)\n",
    "q.enqueue(2)\n",
    "q.enqueue(3)\n",
    "print(q)\n",
    "q.dequeue()\n",
    "print(q)\n",
    "print(q.peak())\n"
   ]
  },
  {
   "cell_type": "code",
   "execution_count": 88,
   "id": "8ad070f0",
   "metadata": {},
   "outputs": [
    {
     "name": "stdout",
     "output_type": "stream",
     "text": [
      "1 2 3\n",
      "\n"
     ]
    },
    {
     "data": {
      "text/plain": [
       "'Q is empty'"
      ]
     },
     "execution_count": 88,
     "metadata": {},
     "output_type": "execute_result"
    }
   ],
   "source": [
    "#Q with Linked list\n",
    "\n",
    "class Node:\n",
    "    def __init__(self,val):\n",
    "        self.val=val\n",
    "        self.next=None\n",
    "    def __str__(self):\n",
    "        val=[str(x) for x in self.q]\n",
    "        return \" \".join(val)\n",
    "class Queue:\n",
    "    def __init__(self):\n",
    "        self.head=None\n",
    "        self.tail=None\n",
    "        self.next=None\n",
    "    def __iter__(self):\n",
    "        node=self.head\n",
    "        while node:\n",
    "            yield node.val\n",
    "            node=node.next\n",
    "class Q:\n",
    "    def __init__(self):\n",
    "        self.Queue=Queue ()\n",
    "    def __str__(self):\n",
    "        val=[str(x) for x in self.Queue]\n",
    "        return \" \".join(val)\n",
    "    def enq(self,val):\n",
    "        node=Node(val)\n",
    "        if self.Queue.head==None:\n",
    "            self.Queue.head=self.Queue.tail=node\n",
    "        else:\n",
    "            self.Queue.tail.next=node\n",
    "            self.Queue.tail=node\n",
    "    def isempty(self):\n",
    "        if self.Queue.head==None:\n",
    "            return True\n",
    "        else:\n",
    "            return False\n",
    "    def deq(self):\n",
    "        if self.isempty():\n",
    "            return \"Q is empty\"\n",
    "        else:\n",
    "            temp= self.Queue.head\n",
    "            if self.Queue.head==self.Queue.tail:\n",
    "                self.Queue.head=self.Queue.tail=None\n",
    "            else:\n",
    "                self.Queue.head=self.Queue.next\n",
    "            return temp\n",
    "    def peak(self):\n",
    "        if self.isempty():\n",
    "            return \"Q is empty\"\n",
    "        else:\n",
    "            return self.Queue.head\n",
    "    def delete(self):\n",
    "        self.Queue.head=self.Queue.tail=None\n",
    "            \n",
    "        \n",
    "        \n",
    "            \n",
    "            \n",
    "q=Q()\n",
    "q.enq(1)\n",
    "q.enq(2)\n",
    "q.enq(3)\n",
    "print(q)\n",
    "q.deq()\n",
    "print(q)\n",
    "q.peak()\n",
    "    "
   ]
  },
  {
   "cell_type": "markdown",
   "id": "c3990b3b",
   "metadata": {},
   "source": [
    "#collections\n",
    "\n",
    "collection.deque\n",
    "\n",
    "methods:\n",
    "\n",
    "-> deque()\n",
    "-> append()\n",
    "-> popleft()\n",
    "-> clear\n"
   ]
  },
  {
   "cell_type": "code",
   "execution_count": 89,
   "id": "bbe50cd3",
   "metadata": {},
   "outputs": [
    {
     "name": "stdout",
     "output_type": "stream",
     "text": [
      "deque([], maxlen=5)\n",
      "deque([3, 1, 2], maxlen=5)\n",
      "deque([3, 1], maxlen=5)\n"
     ]
    }
   ],
   "source": [
    "from collections import deque\n",
    "q= deque(maxlen=5)\n",
    "print(q)\n",
    "q.append(1)\n",
    "q.append(2)\n",
    "q.appendleft(3)\n",
    "print(q)\n",
    "q.count(1)\n",
    "q.pop()\n",
    "print(q)\n",
    "q."
   ]
  },
  {
   "cell_type": "markdown",
   "id": "43ec70b2",
   "metadata": {},
   "source": [
    "Python Queue Module\n",
    "\n",
    "FIFO Q\n",
    "Lifo Q (stack)\n",
    "Priority Q\n",
    "\n"
   ]
  },
  {
   "cell_type": "code",
   "execution_count": 7,
   "id": "d1c0d97e",
   "metadata": {},
   "outputs": [
    {
     "name": "stdout",
     "output_type": "stream",
     "text": [
      "True\n",
      "False\n"
     ]
    },
    {
     "data": {
      "text/plain": [
       "1"
      ]
     },
     "execution_count": 7,
     "metadata": {},
     "output_type": "execute_result"
    }
   ],
   "source": [
    "import queue as q\n",
    "\n",
    "cq=q.Queue(maxsize=5)\n",
    "print(cq.empty())\n",
    "print(cq.full())\n",
    "cq.put(1)\n",
    "cq.get(1)"
   ]
  },
  {
   "cell_type": "code",
   "execution_count": 91,
   "id": "4be6e6a3",
   "metadata": {},
   "outputs": [],
   "source": [
    "#stack and Q interview Questions\n",
    "\n",
    "#three in one\n",
    "\n",
    "class multistack:\n",
    "    def __init__(self,size):\n",
    "        self.nstacks=3\n",
    "        self.stack=[0]*(size*self.nstacks)\n",
    "        self.sizes=[0]* self.nstacks\n",
    "        self.size=size\n",
    "    \n",
    "    def isfull(self,snum):\n",
    "        if self.sizes[snum]==self.size:\n",
    "            return True\n",
    "        else:\n",
    "            return False\n",
    "    def isempty(self,snum):\n",
    "        if self.sizes[snum]==0:\n",
    "            return True\n",
    "        else:\n",
    "            return False\n",
    "    def indexoftop(self,snum):\n",
    "        offset=snum*self.size\n",
    "        return offset + self.sizes[snum]-1\n",
    "    def push(self,val,snum):\n",
    "        if self.isfull(snum):\n",
    "            return \" Stack is full\"\n",
    "        else:\n",
    "            self.sizes[snum]+=1\n",
    "            self.stack[self.indexoftop(snum)]=val\n",
    "    def pop(self,snum):\n",
    "        if self.isempty(snum):\n",
    "            return \"stack is empty\"\n",
    "        else:\n",
    "            x=self.stack[self.indexoftop(snum)]\n",
    "            self.stat[self.indexoftop(snum)]=0\n",
    "            self.sizes[snum]-=1\n",
    "            return x\n",
    "    def peak(self,snum):\n",
    "        if self.isempty(snum):\n",
    "            return\" Stack is empty\"\n",
    "        else:\n",
    "            x=self.stack[self.indexoftop[snum]]\n",
    "            return x\n",
    "            "
   ]
  },
  {
   "cell_type": "code",
   "execution_count": 15,
   "id": "37123341",
   "metadata": {},
   "outputs": [
    {
     "name": "stdout",
     "output_type": "stream",
     "text": [
      "<__main__.MinStack object at 0x1077b4a90>\n",
      "0\n",
      "0\n",
      "<__main__.MinStack object at 0x1077b4a90>\n",
      "4\n",
      "1\n"
     ]
    }
   ],
   "source": [
    "#minimum of stack\n",
    "class Node():\n",
    "    def __init__(self,val=None,next=None):\n",
    "        self.val=val\n",
    "        self.next=next\n",
    "    def __str__(self):\n",
    "        string=str(self.val)\n",
    "        return string\n",
    "class MinStack():\n",
    "    def __init__(self):\n",
    "        self.head=None\n",
    "    def push(self,val):\n",
    "        node=Node(val,self.head)\n",
    "        self.head=node\n",
    "    def pop(self):\n",
    "        if self.head==None:\n",
    "            return None\n",
    "        else:\n",
    "            x=self.head.val\n",
    "            self.head=self.head.next\n",
    "            return x\n",
    "    def peak(self):\n",
    "        if self.head==None:\n",
    "            return None\n",
    "        else:\n",
    "            return self.head.val\n",
    "    def min(self):\n",
    "        if self.head==None:\n",
    "            return None\n",
    "        else:\n",
    "            min=self.head.val\n",
    "            temp=self.head\n",
    "            while temp:\n",
    "                if temp.val<min:\n",
    "                    min=temp.val\n",
    "                temp=temp.next\n",
    "            return min\n",
    "        \n",
    "obj=MinStack()\n",
    "obj.push(1)\n",
    "obj.push(2)\n",
    "obj.push(3)\n",
    "obj.push(4)\n",
    "obj.push(0)\n",
    "print(obj)\n",
    "print(obj.peak())\n",
    "print(obj.min())\n",
    "obj.pop()\n",
    "print(obj)\n",
    "print(obj.peak())\n",
    "print(obj.min())      \n"
   ]
  },
  {
   "cell_type": "code",
   "execution_count": 93,
   "id": "3126b457",
   "metadata": {},
   "outputs": [
    {
     "name": "stdout",
     "output_type": "stream",
     "text": [
      "[[1, 2, 3], [4, 5]]\n",
      "[[1, 2, 3], [4, 5]]\n",
      "<built-in method pop of list object at 0x115797940>\n"
     ]
    }
   ],
   "source": [
    "#stack platea\n",
    "\n",
    "class PS():\n",
    "    def __init__(self,cap):\n",
    "        self.cap=cap\n",
    "        self.stacks=[]\n",
    "    def __str__(self):\n",
    "        return str(self.stacks)\n",
    "    def push(self,val):\n",
    "        if len(self.stacks)>0 and (len(self.stacks[-1]))< self.cap:\n",
    "            self.stacks[-1].append(val)\n",
    "        else:\n",
    "            self.stacks.append([val])\n",
    "    def pop(self):\n",
    "        while len(self.stacks) and len(self.stacks[-1])==0:\n",
    "            self.stacks.pop()\n",
    "        if len(self.stacks)==0:\n",
    "            return None\n",
    "        else:\n",
    "            return self.stacks[-1].pop\n",
    "    def pop_at(self,snum):\n",
    "        if len(self.stacks[snum])>0:\n",
    "            return self.stacks[snum].pop()\n",
    "        else:\n",
    "            return None\n",
    "        \n",
    "cs=PS(3)\n",
    "cs.push(1)\n",
    "cs.push(2)\n",
    "cs.push(3)\n",
    "cs.push(4)\n",
    "cs.push(5)\n",
    "print(cs)\n",
    "cs.pop()\n",
    "print(cs)\n",
    "print(cs.pop())"
   ]
  },
  {
   "cell_type": "code",
   "execution_count": 94,
   "id": "9c1b15d2",
   "metadata": {},
   "outputs": [],
   "source": [
    "#queues using stack"
   ]
  },
  {
   "cell_type": "code",
   "execution_count": 95,
   "id": "509ca657",
   "metadata": {},
   "outputs": [
    {
     "ename": "NameError",
     "evalue": "name 'enq' is not defined",
     "output_type": "error",
     "traceback": [
      "\u001b[0;31m---------------------------------------------------------------------------\u001b[0m",
      "\u001b[0;31mNameError\u001b[0m                                 Traceback (most recent call last)",
      "Cell \u001b[0;32mIn[95], line 29\u001b[0m\n\u001b[1;32m     27\u001b[0m             \u001b[38;5;28;01mreturn\u001b[39;00m \u001b[38;5;28mself\u001b[39m\u001b[38;5;241m.\u001b[39mcats\u001b[38;5;241m.\u001b[39mpop(\u001b[38;5;241m0\u001b[39m)\n\u001b[1;32m     28\u001b[0m cd\u001b[38;5;241m=\u001b[39mAnimal()\n\u001b[0;32m---> 29\u001b[0m cd,\u001b[43menq\u001b[49m(\u001b[38;5;124m\"\u001b[39m\u001b[38;5;124mCat1\u001b[39m\u001b[38;5;124m\"\u001b[39m,\u001b[38;5;124m\"\u001b[39m\u001b[38;5;124mCat\u001b[39m\u001b[38;5;124m\"\u001b[39m)\n\u001b[1;32m     30\u001b[0m cd\u001b[38;5;241m.\u001b[39menq(\u001b[38;5;124m\"\u001b[39m\u001b[38;5;124mdog1\u001b[39m\u001b[38;5;124m\"\u001b[39m,\u001b[38;5;124m\"\u001b[39m\u001b[38;5;124mDog\u001b[39m\u001b[38;5;124m\"\u001b[39m)\n\u001b[1;32m     31\u001b[0m \u001b[38;5;28mprint\u001b[39m(cd)\n",
      "\u001b[0;31mNameError\u001b[0m: name 'enq' is not defined"
     ]
    }
   ],
   "source": [
    "#Animal shelter\n",
    "\n",
    "class Animal:\n",
    "    def __init__(self):\n",
    "        self.cats=[]\n",
    "        self.dogs=[]\n",
    "    def enq(self,animal,type):\n",
    "        if type=='Cat':\n",
    "            self.cats.append(animal)\n",
    "        else:\n",
    "            self.dogs.append(animal)\n",
    "    def deqcat(self):\n",
    "        \n",
    "        if len(self.cats)==0:\n",
    "            return None\n",
    "        else:\n",
    "            return self.cats.pop(0)\n",
    "    def deqdog(self):\n",
    "        if len(self.dogs)==0:\n",
    "            return None\n",
    "        else:\n",
    "            return self.dogs.pop(0)\n",
    "    def dqany(self):\n",
    "        if len(self.cats)==0:\n",
    "            return self.dogs.pop(0)\n",
    "        else:\n",
    "            return self.cats.pop(0)\n",
    "cd=Animal()\n",
    "cd,enq(\"Cat1\",\"Cat\")\n",
    "cd.enq(\"dog1\",\"Dog\")\n",
    "print(cd)\n",
    "               "
   ]
  },
  {
   "cell_type": "markdown",
   "id": "b603965f",
   "metadata": {},
   "source": [
    "# Tree\n",
    "A tree is a nonlinear Ds with hieracical relationships b/w its element without any cycle \n",
    "\n",
    "Why tree: linear ds increase Time complexity when the size of data increases so we use tree (non linear) DS\n",
    "\n",
    "example: file system in our computer\n",
    "\n",
    "Root: top node without parent\n",
    "Edge: a link b/w parent and child\n",
    "leaf: a nofe which does not have children\n",
    "sibling: children of same parent\n",
    "Ancestor: parent, grand parent , great grand parent etc\n",
    "Depth of node: length from root to node\n",
    "height of node: \n",
    "depth of tree:\n",
    "height of tree:\n",
    "\n"
   ]
  },
  {
   "cell_type": "code",
   "execution_count": null,
   "id": "27149c75",
   "metadata": {},
   "outputs": [],
   "source": [
    "class TreeNode:\n",
    "    def __init__(self,data,children=[]):\n",
    "        self.data=data\n",
    "        self.children=children\n",
    "    def __str__(self,level=0):\n",
    "        ret= \" \"*level + str(self.data)+\"\\n\"\n",
    "        for child in self.children:\n",
    "            ret+=child.__str__(level + 1)\n",
    "        return ret\n",
    "    def addchild(self,TreeNode):\n",
    "        self.children.append(TreeNode)\n",
    "tree=TreeNode(\"1\",[])\n",
    "prime=TreeNode(\"2\",[])\n",
    "comp=TreeNode(\"4\",[])\n",
    "tree.addchild(prime)\n",
    "tree.addchild(comp)\n",
    "prime1=TreeNode(\"3\",[])\n",
    "comp1=TreeNode(\"6\",[])\n",
    "prime.addchild(prime1)\n",
    "comp.addchild(comp1)\n",
    "print(tree)"
   ]
  },
  {
   "cell_type": "markdown",
   "id": "44facc7f",
   "metadata": {},
   "source": [
    "#Binary tree\n",
    "\n",
    "* each node have atmost 2 children\n"
   ]
  },
  {
   "cell_type": "markdown",
   "id": "a20d2380",
   "metadata": {},
   "source": [
    "Types of binary tree\n",
    "* Full Binary Tree: have 2 or 0 childern\n",
    "* Perfect Binary Tree: have only 2 children and leaf nodes have 0 childre and all nodes at same level\n",
    "* Complete Binary tree: all levels ar ecompletly filled expect last level\n",
    "\n",
    "* Balanced Binary tree: all leaf nodes are located at same distance from root node"
   ]
  },
  {
   "cell_type": "markdown",
   "id": "baaf860a",
   "metadata": {},
   "source": [
    "#binary tree\n",
    "1. using linked list\n",
    "2. using python list(array)\n",
    "\n",
    "Tree Traversal:\n",
    "1. Depth first search (DFS):\n",
    "* Preorder traversa : root->left->right\n",
    "* Inorder traversal: left->root->right\n",
    "* Postorder traversal: left->right->root\n",
    "\n",
    "2. Breadth first search:\n",
    "* Level order traversal\n",
    "\n"
   ]
  },
  {
   "cell_type": "code",
   "execution_count": null,
   "id": "265f51bf",
   "metadata": {
    "scrolled": false
   },
   "outputs": [],
   "source": [
    "#creation of binary tree (linked list)\n",
    "from collections import deque as q\n",
    "class Treenode:\n",
    "    def __init__(self,data):\n",
    "        self.data=data\n",
    "        self.left=None\n",
    "        self.right=None\n",
    "    \n",
    "bt=Treenode(\"Hotel\")\n",
    "left=Treenode(\"tiffans\")\n",
    "right= Treenode(\"drinks\")\n",
    "bt.left=left\n",
    "bt.right=right\n",
    "\n",
    "def preorder(root):\n",
    "    if not root:\n",
    "        return \n",
    "    print(root.data)\n",
    "    preorder(root.left)\n",
    "    preorder(root.right)\n",
    "preorder(bt)\n",
    "print(\"\\n\")\n",
    "def Inorder(root):\n",
    "    if not root:\n",
    "        return\n",
    "    Inorder(root.left)\n",
    "    print(root.data)\n",
    "    Inorder(root.right)\n",
    "Inorder(bt)\n",
    "print(\"\\n\")\n",
    "def postorder(root):\n",
    "    if not root:\n",
    "        return\n",
    "    postorder(root.left)\n",
    "    postorder(root.right)\n",
    "    print(root.data)\n",
    "    \n",
    "postorder(bt)\n",
    "    \n",
    "def levelorder(root):\n",
    "    if not root:\n",
    "        return\n",
    "    else:\n",
    "        cq = q()\n",
    "        cq.append(root)\n",
    "        while len(cq) > 0:\n",
    "            rt = cq.popleft()\n",
    "            print(rt.data)\n",
    "            if rt.left is not None:\n",
    "                cq.append(rt.left)\n",
    "            if rt.right is not None:\n",
    "                cq.append(rt.right)\n",
    "\n",
    "print(\"\\n\")                \n",
    "levelorder(bt)\n",
    "\n",
    "def search(root,x):\n",
    "    if not root:\n",
    "        return \"No tree\"\n",
    "    else:\n",
    "        cq=q()\n",
    "        cq.append(root)\n",
    "        while len(cq)>0:\n",
    "            rt=cq.popleft()\n",
    "            if rt.data==x:\n",
    "                return \"node found\"\n",
    "            else:\n",
    "                if rt.left is not None:\n",
    "                    cq.append(rt.left)\n",
    "                if rt.right is not None:\n",
    "                    cq.append(rt.right)\n",
    "        return \"not in tree\"\n",
    "\n",
    "search(bt,\"drinks\")\n",
    "search(bt,\"hello\")              \n",
    "\n",
    "#insert a node in binary tree\n",
    "# a root node is blank\n",
    "# we have to look for 1st vacant place\n",
    "\n",
    "def insert(root,newn):\n",
    "    if not root:\n",
    "        root=Treenode(newn)\n",
    "    else:\n",
    "        cq=q()\n",
    "        cq.append(root)\n",
    "        while len(cq)>0:\n",
    "            rt=cq.popleft()\n",
    "            if rt.left is not None:\n",
    "                cq.append(rt.left)\n",
    "            else:\n",
    "                rt.left=Treenode(newn)\n",
    "                return \"inserted\"\n",
    "            if rt.right is not None:\n",
    "                cq.append(rt.right)\n",
    "            else:\n",
    "                rt.right=Treenode(newn)\n",
    "                return \"inserted\"\n",
    "        return \"not inserted\"\n",
    "insert(bt,\"idly\")\n",
    "insert(bt,\"dosa\")\n",
    "insert(bt,\"tea\")\n",
    "insert(bt,\"coffee\")\n",
    "insert(bt,\"puri\")\n",
    "print(\"\\n\")\n",
    "levelorder(bt)\n",
    "print(\"\\n\")\n",
    "preorder(bt)\n",
    "print(\"\\n\")\n",
    "postorder(bt)\n",
    "def delete_node(root, key):\n",
    "    if root is None:\n",
    "        return root\n",
    "\n",
    "    if root.left is None and root.right is None:\n",
    "        if root.data == key:\n",
    "            return None\n",
    "        else:\n",
    "            return root\n",
    "\n",
    "    key_node = None\n",
    "    q = deque([root])\n",
    "    while len(q) > 0:\n",
    "        node = q.popleft()\n",
    "        if node.data == key:\n",
    "            key_node = node\n",
    "        if node.left is not None:\n",
    "            q.append(node.left)\n",
    "        if node.right is not None:\n",
    "            q.append(node.right)\n",
    "\n",
    "    if key_node is not None:\n",
    "        x = node.data\n",
    "        delete_deepest(root, node)\n",
    "        key_node.data = x\n",
    "\n",
    "    return root\n",
    "\n",
    "def delete_deepest(root, d_node):\n",
    "    q = deque([root])\n",
    "    while len(q) > 0:\n",
    "        node = q.popleft()\n",
    "        if node is d_node:\n",
    "            node = None\n",
    "            return\n",
    "        if node.right is not None:\n",
    "            if node.right is d_node:\n",
    "                node.right = None\n",
    "                return\n",
    "            else:\n",
    "                q.append(node.right)\n",
    "        if node.left is not None:\n",
    "            if node.left is d_node:\n",
    "                node.left = None\n",
    "                return\n",
    "            else:\n",
    "                q.append(node.left)\n",
    "delete_node(bt,\"dosa\")\n",
    "print(\"\\n\")\n",
    "levelorder(bt)"
   ]
  },
  {
   "cell_type": "code",
   "execution_count": null,
   "id": "feb7d135",
   "metadata": {},
   "outputs": [],
   "source": [
    "# tree using python list\n",
    "\n",
    "class Tree:\n",
    "    def __init__(self,size):\n",
    "        self.list = size*[None]\n",
    "        self.size = size\n",
    "        self.index = 1\n",
    "        \n",
    "    def insert(self, newn):\n",
    "        if self.size == self.index + 1:\n",
    "            return \"Tree is full\"\n",
    "        else:\n",
    "            self.list[self.index] = newn\n",
    "            self.index += 1\n",
    "            return \"inserted\"\n",
    "    \n",
    "    def search(self, x):\n",
    "        for i in range(len(self.list)):\n",
    "            if self.list[i] == int(x):\n",
    "                return \"found in tree \"\n",
    "        return \"not in tree\"\n",
    "    \n",
    "    def preorder(self, index):\n",
    "        if index > self.index:\n",
    "            return\n",
    "        print(self.list[index])\n",
    "        self.preorder(index * 2)\n",
    "        self.preorder(index * 2 + 1)\n",
    "    def inorder(self,index):\n",
    "        if index > self.index:\n",
    "            return\n",
    "        self.inorder(index*2)\n",
    "        print(self.list[index])\n",
    "        self.inorder(index*2 + 1)\n",
    "    def postorder(self,index):\n",
    "        if index > self.index:\n",
    "            return\n",
    "        self.inorder(index*2)\n",
    "        self.inorder(index*2 + 1)\n",
    "        print(self.list[index])\n",
    "    \n",
    "    def levelorder(self,index):\n",
    "        for i in range(index,self.index+1):\n",
    "            print(self.list[i])\n",
    "    \n",
    "    def delete(self,value):\n",
    "        if self.index==0:\n",
    "            return \"empty tree\"\n",
    "        for i in range(1,self.index+1):\n",
    "            if self.list[i]==value:\n",
    "                self.list[i]=self.list[self.index]\n",
    "                self.list[self.index]=None\n",
    "                self.index-=1\n",
    "                return \"deleted\"\n",
    "        \n",
    "        \n",
    "bt = Tree(8)\n",
    "bt.insert(1)\n",
    "bt.insert(2)\n",
    "bt.insert(3)\n",
    "bt.insert(4)\n",
    "bt.insert(5)\n",
    "bt.insert(6)\n",
    "bt.insert(7)\n",
    "\n",
    "bt.preorder(1)\n",
    "print(\"\\n\")\n",
    "bt.inorder(1)\n",
    "print(\"\\n\")\n",
    "bt.postorder(1)\n",
    "print(\"\\n\")\n",
    "bt.levelorder(1)\n",
    "print(\"\\n\")\n",
    "bt.delete(3)\n",
    "print(\"\\n\")\n",
    "bt.levelorder(1)"
   ]
  },
  {
   "cell_type": "markdown",
   "id": "bf9491e1",
   "metadata": {},
   "source": [
    "#Binary search tree\n",
    "\n",
    "* A BST is a Binary Tree\n",
    "* All nodes in left sub tree are less than the parent node\n",
    "* All nodes in right sub tree are greater than parent node\n",
    "* faster in insertkion & deletion than binary trees\n",
    "\n",
    "Operations:\n",
    "\n",
    "* creation\n",
    "* insertion\n",
    "* deletion\n",
    "* search\n",
    "* \n"
   ]
  },
  {
   "cell_type": "code",
   "execution_count": null,
   "id": "6a0c6a3d",
   "metadata": {},
   "outputs": [],
   "source": [
    "class bst:\n",
    "    def __init__(self, data):\n",
    "        self.data = data\n",
    "        self.left = None\n",
    "        self.right = None\n",
    "        \n",
    "    def bstinsert(self, data):\n",
    "        if self.data is None:\n",
    "            self.data = data\n",
    "        elif data <= self.data:\n",
    "            if self.left is None:\n",
    "                self.left = bst(data)\n",
    "            else:\n",
    "                self.left.bstinsert(data)\n",
    "        else:\n",
    "            if self.right is None:\n",
    "                self.right = bst(data)\n",
    "            else:\n",
    "                self.right.bstinsert(data)\n",
    "        return \"Node is inserted\"\n",
    "    \n",
    "    def bstpreorder(self,root):\n",
    "        if not root:\n",
    "            return\n",
    "        print(root.data)\n",
    "        self.bstpreorder(root.left)\n",
    "        self.bstpreorder(root.right)\n",
    "    \n",
    "    def bstinorder(self,root):\n",
    "        if not root:\n",
    "            return\n",
    "        self.bstinorder(root.left)\n",
    "        print(root.data)\n",
    "        self.bstinorder(root.right)\n",
    "    \n",
    "    def bstpostorder(self,root):\n",
    "        if not root:\n",
    "            return\n",
    "        self.bstpostorder(root.left)\n",
    "        self.bstpostorder(root.right)\n",
    "        print(root.data)\n",
    "    \n",
    "    def bstlevelorder(self,root):\n",
    "        if root is None:\n",
    "            return\n",
    "        else:\n",
    "            cq=q()\n",
    "            cq.append(root)\n",
    "            while len(cq) > 0:\n",
    "                rt = cq.popleft()\n",
    "                print(rt.data)\n",
    "                if rt.left is not None:\n",
    "                    cq.append(rt.left)\n",
    "                if rt.right is not None:\n",
    "                    cq.append(rt.right)\n",
    "    \n",
    "    def bstsearch(self,root,x):\n",
    "        if root.data==x:\n",
    "            return \"element found\"\n",
    "        elif x<root.data:\n",
    "            if root.left and root.left.data==x:\n",
    "                return \"element found\"\n",
    "            else:\n",
    "                return self.bstsearch(root.left,x)\n",
    "        else:\n",
    "            if root.right and root.right.data==x:\n",
    "                return \"element found\"\n",
    "            else:\n",
    "                return self.bstsearch(root.right,x)\n",
    "        return \"element not in bst\"\n",
    "    \n",
    "    def bstdelete(self, root, x):\n",
    "        if root is None:\n",
    "            return root\n",
    "        \n",
    "        if x < root.data:\n",
    "            root.left = self.bstdelete(root.left, x)\n",
    "        elif x > root.data:\n",
    "            root.right = self.bstdelete(root.right, x)\n",
    "        else:\n",
    "            if root.left is None:\n",
    "                temp = root.right\n",
    "                root = None\n",
    "                return temp\n",
    "            elif root.right is None:\n",
    "                temp = root.left\n",
    "                root = None\n",
    "                return temp\n",
    "            temp = self.getminnode(root.right)\n",
    "            root.data = temp.data\n",
    "            root.right = self.bstdelete(root.right, temp.data)\n",
    "        return root\n",
    "    \n",
    "    def getminnode(self, root):\n",
    "        while root.left is not None:\n",
    "            root = root.left\n",
    "        return root\n",
    "        \n",
    "b1 = bst(70)\n",
    "b1.bstinsert(75)\n",
    "b1.bstinsert(89)\n",
    "b1.bstinsert(50)\n",
    "b1.bstinsert(20)\n",
    "b1.bstinsert(65)\n",
    "\n",
    "print(b1.data)\n",
    "b1.bstpreorder(b1)\n",
    "print(\"\\n\")\n",
    "b1.bstinorder(b1)\n",
    "print(\"\\n\")\n",
    "b1.bstpostorder(b1)\n",
    "print(\"\\n\")\n",
    "b1.bstlevelorder(b1)\n",
    "print(\"\\n\")\n",
    "print(b1.bstsearch(b1, 50))\n",
    "\n",
    "print(\"\\nDeleting 50\")\n",
    "b1.bstdelete(b1, 50)\n",
    "\n",
    "print(\"\\n\")\n",
    "b1.bstinorder(b1)\n",
    "\n",
    "\n",
    "print(\"\\nDeleting 700\")\n",
    "b1.bstdelete(b1, 70)\n",
    "\n",
    "print(\"\\n\")\n",
    "b1.bstlevelorder(b1)\n",
    "\n"
   ]
  },
  {
   "cell_type": "markdown",
   "id": "c1cc14e3",
   "metadata": {},
   "source": [
    "#AVL Tree\n",
    "\n",
    "An AVL tree is a self balancing BST where diff b/w height of left and right subtree can not be more than one for all node\n",
    "\n",
    "why AVL Tree\n",
    "\n",
    "If given numbers are in sorted order they going to form left skewed /right skewed tree, to remove skewness we need to balance the tree sucha sa AVL tree\n",
    "\n",
    "Operation \n",
    "\n",
    "* create\n",
    "* search\n",
    "* traversal\n",
    "* insert\n",
    "* delete\n",
    "\n"
   ]
  },
  {
   "cell_type": "code",
   "execution_count": null,
   "id": "44484d9a",
   "metadata": {},
   "outputs": [],
   "source": []
  },
  {
   "cell_type": "code",
   "execution_count": null,
   "id": "abc0675a",
   "metadata": {},
   "outputs": [],
   "source": [
    "from collections import deque\n",
    "\n",
    "class Avl:\n",
    "    def __init__(self, data):\n",
    "        self.left = None\n",
    "        self.right = None\n",
    "        self.data = data\n",
    "        self.height = 1 \n",
    "\n",
    "def Avlpreorder(root):\n",
    "    if root is None:\n",
    "        return\n",
    "    print(root.data)\n",
    "    Avlpreorder(root.left)\n",
    "    Avlpreorder(root.right)\n",
    "\n",
    "def Avlinorder(root):\n",
    "    if root is None:\n",
    "        return\n",
    "    Avlinorder(root.left)\n",
    "    print(root.data)\n",
    "    Avlinorder(root.right)\n",
    "\n",
    "def Avlpostorder(root):\n",
    "    if root is None:\n",
    "        return\n",
    "    Avlpostorder(root.left)\n",
    "    Avlpostorder(root.right)\n",
    "    print(root.data)\n",
    "\n",
    "def Avllevelrder(root):\n",
    "    if not root:\n",
    "        return\n",
    "    else:\n",
    "        cq = deque()\n",
    "        cq.append(root)\n",
    "        while len(cq) > 0:\n",
    "            rt = cq.popleft()\n",
    "            print(rt.data)\n",
    "            if root.left is not None:\n",
    "                cq.append(rt.left)\n",
    "            if root.right is not None:\n",
    "                cq.append(rt.right)\n",
    "\n",
    "def Avlsearch(root, x):\n",
    "    if root.data == x:\n",
    "        return \" element found\"\n",
    "    elif x < root.data:\n",
    "        if root.left.data == x:\n",
    "            return \"element found\"\n",
    "        else:\n",
    "            Avlsearch(root.left, x)\n",
    "    else:\n",
    "        if root.right.data == x:\n",
    "            return \"element found\"\n",
    "        else:\n",
    "            Avlsearch(root.right, x)\n",
    "\n",
    "def height(root):\n",
    "    if not root:\n",
    "        return 0\n",
    "    return root.height\n",
    "\n",
    "def rotright(node):\n",
    "    nnode = node.left\n",
    "    node.left = node.left.right\n",
    "    nnode.right = node\n",
    "    node.height = 1 + max(height(node.left), height(node.right))\n",
    "    nnode.height = 1 + max(height(nnode.left), height(nnode.right))\n",
    "    return nnode\n",
    "\n",
    "def rotleft(node):\n",
    "    nnode = node.right\n",
    "    node.right = node.right.left\n",
    "    nnode.left = node\n",
    "    node.height = 1 + max(height(node.left), height(node.right))\n",
    "    nnode.height = 1 + max(height(nnode.left), height(nnode.right))\n",
    "    return nnode\n",
    "\n",
    "def balance(root):\n",
    "    if not root:\n",
    "        return 0\n",
    "    return height(root.left) - height(root.right)\n",
    "\n",
    "def avlinsert(root, val):\n",
    "    if not root:\n",
    "        return Avl(val)\n",
    "    elif val < root.data:\n",
    "        root.left = avlinsert(root.left, val)\n",
    "    else:\n",
    "        root.right = avlinsert(root.right, val)\n",
    "    root.height = 1 + max(height(root.left), height(root.right))\n",
    "    bal = balance(root)\n",
    "    if bal > 1 and val < root.left.data:\n",
    "        return rotright(root)\n",
    "    if bal > 1 and val > root.left.data:\n",
    "        root.left = rotleft(root.left)\n",
    "        return rotright(root)\n",
    "    if bal < -1 and val > root.right.data:\n",
    "        return rotleft(root)\n",
    "    if bal < -1 and val < root.right.data:\n",
    "        root.right = rotright(root.right)\n",
    "        return rotleft(root)\n",
    "    return root\n",
    "def avldelete(root, key):\n",
    "    if not root:\n",
    "        return root\n",
    "\n",
    "    elif key < root.data:\n",
    "        root.left = avldelete(root.left, key)\n",
    "\n",
    "    elif key > root.data:\n",
    "        root.right = avldelete(root.right, key)\n",
    "\n",
    "    else:\n",
    "        if not root.left:\n",
    "            temp = root.right\n",
    "            root = None\n",
    "            return temp\n",
    "\n",
    "        elif not root.right:\n",
    "            temp = root.left\n",
    "            root = None\n",
    "            return temp\n",
    "\n",
    "        temp = minValueNode(root.right)\n",
    "        root.data = temp.data\n",
    "        root.right = avldelete(root.right, temp.data)\n",
    "\n",
    "    if not root:\n",
    "        return root\n",
    "\n",
    "    root.height = 1 + max(height(root.left),\n",
    "                         height(root.right))\n",
    "\n",
    "    bal = balance(root)\n",
    "\n",
    "    if bal > 1 and balance(root.left) >= 0:\n",
    "        return rotright(root)\n",
    "\n",
    "    if bal < -1 and balance(root.right) <= 0:\n",
    "        return rotleft(root)\n",
    "\n",
    "    if bal > 1 and balance(root.left) < 0:\n",
    "        root.left = rotleft(root.left)\n",
    "        return rotright(root)\n",
    "\n",
    "    if bal < -1 and balance(root.right) > 0:\n",
    "        root.right = rotright(root.right)\n",
    "        return rotleft(root)\n",
    "\n",
    "    return root\n",
    "def minValueNode(node):\n",
    "    current = node\n",
    "\n",
    "    while current.left is not None:\n",
    "        current = current.left\n",
    "\n",
    "    return current\n",
    "\n",
    "\n",
    "avl = Avl(10)\n"
   ]
  },
  {
   "cell_type": "markdown",
   "id": "885bc915",
   "metadata": {},
   "source": [
    "#binary heap\n",
    "\n",
    "-> A binary heap is a Binary Tree \n",
    "\n",
    "-> it should be min heap / max heap, In a min heap, the key at rot must be min among all keys present in binary heap, same to all nodes\n",
    "\n",
    "-> it must be a complete tree all levles expectthe last level and last leaf must tends to left as possible\n",
    "\n",
    "why?\n",
    "\n",
    "types:\n",
    "* min heap: paretn node <= children\n",
    "* max heap: parent node > children\n",
    "\n",
    "Operations:\n",
    "* creat\n",
    "* peak\n",
    "* min max\n",
    "* traversal\n",
    "* size\n",
    "* insert\n",
    "* delete\n"
   ]
  },
  {
   "cell_type": "code",
   "execution_count": null,
   "id": "fc0bf887",
   "metadata": {},
   "outputs": [],
   "source": [
    "class heap:\n",
    "    def __init__(self,size):\n",
    "        self.heap=[None]*(size+1)\n",
    "        self.hsize=0\n",
    "        self.maxsize=size+1\n",
    "\n",
    "def heappeek(root):\n",
    "    if not root:\n",
    "        return\n",
    "    else:\n",
    "        return root.heap[1]\n",
    "\n",
    "def heapsize(root):\n",
    "    if not root:\n",
    "        return \n",
    "    else:\n",
    "        return root.hsize\n",
    "\n",
    "def heaptrversal(root):\n",
    "    if not root:\n",
    "        return\n",
    "    else:\n",
    "        for i in range(1, root.hsize+1):\n",
    "            print(root.heap[i])\n",
    "\n",
    "def heapify(root,index,heaptype):\n",
    "    pindex=int(index/2)\n",
    "    if index <=2:\n",
    "        return\n",
    "    if heaptype==\"Min\":\n",
    "        if root.heap[index]< root.heap[pindex]:\n",
    "            root.heap[index], root.heap[pindex]=  root.heap[pindex],root.heap[index]\n",
    "            heapify(root,pindex,heaptype)\n",
    "    elif heaptype==\"Max\":\n",
    "        if root.heap[index]>root.heap[pindex]:\n",
    "            root.heap[index], root.heap[pindex]=  root.heap[pindex],root.heap[index]\n",
    "            heapify(root,pindex,heaptype)\n",
    "\n",
    "def insert(root,val,heaptype):\n",
    "    if root.hsize+1== root.maxsize:\n",
    "        return \" Heap is full\"\n",
    "    root.heap[root.hsize+1]=val\n",
    "    root.hsize+=1\n",
    "    heapify(root,root.hsize,heaptype)\n",
    "    return \"Element is inserted into heap\"\n",
    "\n",
    "def heapifyextract(root,index,htype):\n",
    "    lindex=index*2\n",
    "    rindex= index*2+1\n",
    "    swap=0\n",
    "    if root.hsize <lindex:\n",
    "        return\n",
    "    elif root.hsize ==lindex:\n",
    "        if htype==\"Min\":\n",
    "            if root.heap[index]>root.heap[lindex]:\n",
    "                root.heap[index],root.heap[lindex]=root.heap[lindex],root.heap[index]\n",
    "            return\n",
    "        else:\n",
    "            if root.heap[index]<root.heap[lindex]:\n",
    "                root.heap[index],root.heap[lindex]=root.heap[lindex],root.heap[index]\n",
    "            return\n",
    "    else:\n",
    "        if htype==\"Min\":\n",
    "            if root.heap[lindex]<root.heap[rindex]:\n",
    "                if root.heap[index]>root.heap[lindex]:\n",
    "                    root.heap[index],root.heap[lindex]=root.heap[lindex],root.heap[index]\n",
    "                    heapifyextract(root,lindex,htype)\n",
    "            else:\n",
    "                if root.heap[index]>root.heap[rindex]:\n",
    "                    root.heap[index],root.heap[rindex]=root.heap[rindex],root.heap[index]\n",
    "                    heapifyextract(root,rindex,htype)\n",
    "        else:\n",
    "            if root.heap[lindex]>root.heap[rindex]:\n",
    "                if root.heap[index]<root.heap[lindex]:\n",
    "                    root.heap[index],root.heap[lindex]=root.heap[lindex],root.heap[index]\n",
    "                    heapifyextract(root,lindex,htype)\n",
    "            else:\n",
    "                if root.heap[index]<root.heap[rindex]:\n",
    "                    root.heap[index],root.heap[rindex]=root.heap[rindex],root.heap[index]\n",
    "                    heapifyextract(root,rindex,htype)\n",
    "\n",
    "def extract(root,heaptype):\n",
    "    if not root:\n",
    "        return \"Heap is empty\"\n",
    "    minmax= root.heap[1]\n",
    "    root.heap[1]= root.heap[root.hsize]\n",
    "    root.heap[root.hsize]= None\n",
    "    root.hsize-=1\n",
    "    heapifyextract(root,1,heaptype)\n",
    "    return minmax\n"
   ]
  },
  {
   "cell_type": "markdown",
   "id": "572cd311",
   "metadata": {},
   "source": [
    "#Trie\n",
    "* Tree based DS to store data kin hiearch\n",
    "\n",
    "Properities:\n",
    "* used to store or search strings in a space and time efficently\n",
    "* any node in trie can store non repatiitve multiple charecters\n",
    "* every node stores link of next char of string\n",
    "* every node keep track of end of a string\n",
    "\n",
    "use case:\n",
    "* spell checker\n",
    "* auto completion\n",
    "\n",
    "operations:\n",
    "* create, insertion, search, deletion\n",
    "\n",
    "\n",
    "\n"
   ]
  },
  {
   "cell_type": "code",
   "execution_count": null,
   "id": "13d03034",
   "metadata": {},
   "outputs": [],
   "source": [
    "#Trie\n",
    "\n",
    "class Trienode:\n",
    "    def __init__(self):\n",
    "        self.dic={}\n",
    "        self.eos=None\n",
    "class Trie:\n",
    "    def __init__(self):\n",
    "        self.root=Trienode()\n",
    "    def Trieinsert(self,word):\n",
    "        cur=self.root\n",
    "        for i in word:\n",
    "            ch=i\n",
    "            node= cur.dic.get(ch)\n",
    "            if node==None:\n",
    "                node= Trienode()\n",
    "                cur.dic.update({ch:node})\n",
    "            cur=node\n",
    "        cur.eos=True\n",
    "        return \"word inserted\"\n",
    "    def triesearch(self,x):\n",
    "        cur=self.root\n",
    "        for i in x:\n",
    "            node=cur.dic.get(i)\n",
    "            if node ==None:\n",
    "                return False\n",
    "            cur=node\n",
    "        if cur.eos==True:\n",
    "            return True\n",
    "        else:\n",
    "            return False\n",
    "    \n",
    "            \n",
    "            \n",
    "ct=Trie()\n",
    "def triedelete(root,x,index):\n",
    "    ch=x[index]\n",
    "    node=root.dic.get(ch)\n",
    "    dnode=False\n",
    "    if len(node.dic)>1:\n",
    "        triedelete(node,x,index+1)\n",
    "        return False\n",
    "    if index == len(x)-1:\n",
    "        if len(node.dic)>=1:\n",
    "            node.eos=False\n",
    "            return False\n",
    "        else:\n",
    "            root.dic.pop(ch)\n",
    "            return True\n",
    "    if node.eos==True:\n",
    "        triedelete(node,x,index+1)\n",
    "        return False\n",
    "    dnode=triedelete(node,word,index+1)\n",
    "    if dnode==True:\n",
    "        root.dic.pop(ch)\n",
    "        return True\n",
    "    else:\n",
    "        return False\n",
    "    \n",
    "\n",
    "    \n",
    "        \n",
    "        "
   ]
  },
  {
   "cell_type": "markdown",
   "id": "4788190c",
   "metadata": {},
   "source": [
    "# Hashing \n",
    "\n",
    "Hash function\n",
    "\n",
    "Key\n",
    "\n",
    "Hash Value\n",
    "\n",
    "Hash Table\n",
    "\n",
    "Collision"
   ]
  },
  {
   "cell_type": "markdown",
   "id": "1a48172a",
   "metadata": {},
   "source": [
    "# Sorting\n",
    "Arrange data in paricular order increasing / decresing order\n",
    "\n",
    "example: Microsoft excel sort function,sort in online applications\n",
    "\n",
    "Types of sorting:\n",
    "\n",
    "* space used\n",
    "* stability\n",
    "\n",
    "Space used:\n",
    "1. In place sorting: no extra space requried (Buble sort)\n",
    "2. Out place sorting: extra space requried (merge sort)\n",
    "\n",
    "stability: (in DB Group by uses this)\n",
    "1. Stable sorting: insertion sort ( identical number sequence is same as before sorting\n",
    "2. unstable sorting: \n",
    "\n",
    "Ssorting Terminoliges:\n",
    "\n",
    "Increasing order: 1,2,3,4,5\n",
    "\n",
    "Decreasing order: 10,8,6,2,1\n",
    "\n",
    "Non Increasing order: less than or equal to previous element: 10,8,6,6,2,1,1\n",
    "\n",
    "Non Decreasing order: 1,2,2,3,4,4,5\n",
    "\n",
    "\n",
    "\n",
    "\n"
   ]
  },
  {
   "cell_type": "code",
   "execution_count": null,
   "id": "d0a2407e",
   "metadata": {},
   "outputs": [],
   "source": [
    "#bubble sort: known as sinking sort, we repeatedly  comapre pair of adjucent elements and swap them, by the end of each rotation largest element is moved to right side \n",
    "\n",
    "def bubble_sort(nums):\n",
    "    for i in range(len(nums)-1):\n",
    "        for j in range(len(nums)-i-1):\n",
    "            if nums[j]> nums[j+1]:\n",
    "                nums[j],nums[j+1]=nums[j+1],nums[j]\n",
    "    return nums\n",
    "\n",
    "x=[1,4,5,2,7,6,8,9,1,3]\n",
    "bubble_sort(x)\n",
    "\n",
    "# TC O(N^2)\n",
    "# SC O(1)\n",
    "\n",
    "# when to use: if it is already sorted in increasing order, space less\n",
    "# when no to bubble sort: if lis is in decreassing order"
   ]
  },
  {
   "cell_type": "code",
   "execution_count": null,
   "id": "7623fa7a",
   "metadata": {},
   "outputs": [],
   "source": [
    "#Selection sort: divide array as sorted and unsorted,finfd the min element in unsorted array and add to sorted array\n",
    "\n",
    "def selection_sort(nums):\n",
    "    for i in range(len(nums)):\n",
    "        for j in range(i+1,len(nums)):\n",
    "            if nums[j]<nums[i]:\n",
    "                nums[j],nums[i]=nums[i],nums[j]\n",
    "    return nums\n",
    "selection_sort(x)\n",
    "\n",
    "# every time we find min element and add to sorted list\n",
    "#TC : O(N^2)\n",
    "#SC: O(1)\n",
    "# when to use: space efficent\n",
    "#when not to use: takes more time,large numbers of list so not use\n"
   ]
  },
  {
   "cell_type": "code",
   "execution_count": null,
   "id": "f4ab3edf",
   "metadata": {},
   "outputs": [],
   "source": [
    "# insertion sort: dive into sorted and insorted , select element in unsorted array and place it in its original position\n",
    "\n",
    "def insertion_sort(nums):\n",
    "    for i in range(1,len(nums)):\n",
    "        key=nums[i]\n",
    "        j=i-1\n",
    "        while  j>0 and key < nums[j]:\n",
    "            nums[j+1]=nums[j]\n",
    "        nums[j+1]=key\n",
    "    return nums\n",
    "insertion_sort(x)\n",
    "\n",
    "#Tc o(n^2)\n",
    "#sc : o(1)\n",
    "\n",
    "#use: when w have continous flow of numbers and want to keep them sorted\n",
    "\n",
    "        "
   ]
  },
  {
   "cell_type": "code",
   "execution_count": null,
   "id": "3529361a",
   "metadata": {},
   "outputs": [],
   "source": [
    "#bucket sort: create buckets and distrbute elements , sort buckets, merge buckets\n",
    "#num of buckets = sqrt(len(nums)) round it to neares integer\n",
    "#bucket selection: ceil(value* num of buckets / max value)\n",
    "#sort each bucket\n",
    "#merge all buckets\n",
    "import math\n",
    "def bucket_sort(nums):\n",
    "    n= round(math.sqrt(len(nums)))\n",
    "    maxval= max(nums)\n",
    "    arr=[]\n",
    "    for i in range(n):\n",
    "        arr.append([])\n",
    "    for j in nums:\n",
    "        ind= math.ceil(j*n/maxval )\n",
    "        arr[ind-1].append(j)\n",
    "    for i in range(n):\n",
    "        arr[i]= insertion_sort(arr[i])\n",
    "    k=0\n",
    "    for i in range(n):\n",
    "        for j in range(len(arr[i])):\n",
    "            nums[k]=arr[i][j]\n",
    "            k+=1\n",
    "    return nums\n",
    "bucket_sort(x)\n",
    "\n",
    "#TC: O(n^2)\n",
    "# use quick sort instead od insertation, then TC will be O(nlogn)\n",
    "#when to use: input uniformily distributed\n",
    " "
   ]
  },
  {
   "cell_type": "code",
   "execution_count": null,
   "id": "a7baf559",
   "metadata": {},
   "outputs": [],
   "source": [
    "def merge(nums, l, n, r):\n",
    "    n1 = n - l + 1\n",
    "    n2 = r - n\n",
    "    \n",
    "    L = [0] * n1\n",
    "    R = [0] * n2\n",
    "    \n",
    "    for i in range(0, n1):\n",
    "        L[i] = nums[l + i]\n",
    "    for j in range(0, n2):\n",
    "        R[j] = nums[n + 1 + j]\n",
    "    \n",
    "    i = 0\n",
    "    j = 0\n",
    "    k = l\n",
    "    \n",
    "    while i < n1 and j < n2:\n",
    "        if L[i] <= R[j]:\n",
    "            nums[k] = L[i]\n",
    "            i += 1\n",
    "        else:\n",
    "            nums[k] = R[j]\n",
    "            j += 1\n",
    "        k += 1\n",
    "    \n",
    "    while i < n1:\n",
    "        nums[k] = L[i]\n",
    "        i += 1\n",
    "        k += 1\n",
    "    \n",
    "    while j < n2:\n",
    "        nums[k] = R[j]\n",
    "        j += 1\n",
    "        k += 1\n",
    "\n",
    "def merge_sort(nums, l, r):\n",
    "    if l < r:\n",
    "        n = (l + (r - 1)) // 2\n",
    "        merge_sort(nums, l, n)\n",
    "        merge_sort(nums, n + 1, r)\n",
    "        merge(nums, l, n, r)\n",
    "    \n",
    "    return nums\n",
    "\n",
    "x = [9, 4, 6, 3, 8, 2, 7, 1, 5, 0]\n",
    "result = merge_sort(x, 0, len(x) - 1)\n",
    "print(result)\n"
   ]
  },
  {
   "cell_type": "code",
   "execution_count": null,
   "id": "b0d9f85a",
   "metadata": {},
   "outputs": [],
   "source": [
    "#quic sort\n",
    "\n",
    "def quick_sort(nums):\n",
    "    if len(nums) <= 1:\n",
    "        return nums\n",
    "    else:\n",
    "        pivot = nums[0]  # Choose the first element as the pivot\n",
    "        smaller = [x for x in nums[1:] if x <= pivot]\n",
    "        greater = [x for x in nums[1:] if x > pivot]\n",
    "        return quick_sort(smaller) + [pivot] + quick_sort(greater)\n",
    "\n",
    "quick_sort(x)"
   ]
  },
  {
   "cell_type": "code",
   "execution_count": null,
   "id": "d040b2c7",
   "metadata": {},
   "outputs": [],
   "source": [
    "#heap sort\n",
    "\n",
    "def heapify(nums, n, i):\n",
    "    largest = i\n",
    "    left = 2 * i + 1\n",
    "    right = 2 * i + 2\n",
    "\n",
    "    if left < n and nums[i] < nums[left]:\n",
    "        largest = left\n",
    "\n",
    "    if right < n and nums[largest] < nums[right]:\n",
    "        largest = right\n",
    "\n",
    "    if largest != i:\n",
    "        nums[i], nums[largest] = nums[largest], nums[i]\n",
    "        heapify(nums, n, largest)\n",
    "\n",
    "def heap_sort(nums):\n",
    "    n = len(nums)\n",
    "\n",
    "    # Build a max heap\n",
    "    for i in range(n // 2 - 1, -1, -1):\n",
    "        heapify(nums, n, i)\n",
    "\n",
    "    # Extract elements from the heap one by one\n",
    "    for i in range(n - 1, 0, -1):\n",
    "        nums[i], nums[0] = nums[0], nums[i]\n",
    "        heapify(nums, i, 0)\n",
    "\n",
    "    return nums\n",
    "\n",
    "heap_sort(x)"
   ]
  },
  {
   "cell_type": "markdown",
   "id": "ae0a863d",
   "metadata": {},
   "source": [
    "Sorting Algorithms\n",
    "\n",
    "Name Time Complexity Space Complexity Stable\n",
    "\n",
    "Bubble Sort O(n²) 0(1) Yes\n",
    "\n",
    "Selection Sort O(n²) 0(1) No\n",
    "\n",
    "Insertion Sort O(n²) 0(1) Yes\n",
    "\n",
    "Bucket Sort O(n logn) O(n) Yes\n",
    "\n",
    "Merge Sort O(n logn) O(n) Yes\n",
    "\n",
    "Quick Sort O(n logn) O(n) No\n",
    "\n",
    "Heap Sort O(n logn) 0(1) No"
   ]
  },
  {
   "cell_type": "code",
   "execution_count": null,
   "id": "612b119e",
   "metadata": {},
   "outputs": [],
   "source": [
    "def linear_search(arr, target):\n",
    "    for i in range(len(arr)):\n",
    "        if arr[i] == target:\n",
    "            return i  # Return the index of the target element\n",
    "    return -1  # Target element not found\n",
    "\n",
    "# Example usage:\n",
    "arr = [4, 2, 9, 7, 5, 1]\n",
    "target = 7\n",
    "result = linear_search(arr, target)\n",
    "if result != -1:\n",
    "    print(f\"Element {target} found at index {result}\")\n",
    "else:\n",
    "    print(\"Element not found\")\n"
   ]
  },
  {
   "cell_type": "code",
   "execution_count": null,
   "id": "7954d0a5",
   "metadata": {},
   "outputs": [],
   "source": [
    "def binary_search(arr, target):\n",
    "    low = 0\n",
    "    high = len(arr) - 1\n",
    "\n",
    "    while low <= high:\n",
    "        mid = (low + high) // 2\n",
    "        if arr[mid] == target:\n",
    "            return mid  # Return the index of the target element\n",
    "        elif arr[mid] < target:\n",
    "            low = mid + 1\n",
    "        else:\n",
    "            high = mid - 1\n",
    "    \n",
    "    return -1  # Target element not found\n",
    "\n",
    "# Note: Binary search requires the input array to be sorted in ascending order\n",
    "arr = [1, 2, 4, 5, 7, 9]\n",
    "target = 7\n",
    "result = binary_search(arr, target)\n",
    "if result != -1:\n",
    "    print(f\"Element {target} found at index {result}\")\n",
    "else:\n",
    "    print(\"Element not found\")\n"
   ]
  },
  {
   "cell_type": "markdown",
   "id": "f853cc19",
   "metadata": {},
   "source": [
    "# Graphs \n",
    "\n",
    "Graphs: It is a non linear DS, with nodes and edges, it is finate set of nodes and edges which connect each other (cylici or aclyic)\n",
    "\n",
    "why: connecting Networks, shortest distance,\n",
    "\n",
    "vertex: node of graph\n",
    "\n",
    "edge: path b/w vertex\n",
    "\n",
    "unweighted graph: no weights on edges\n",
    "\n",
    "weighted graph: weights on edge\n",
    "\n",
    "undirected graph: no direction on edges\n",
    "\n",
    "directed graph: direction on edges\n",
    "\n",
    "cyclic graph: atleast have one cycle in graph:\n",
    "\n",
    "acylic graph: no cycle in graph\n",
    "\n",
    "Tree: it is a directed acylic graph (special case)\n",
    "\n",
    "Graph Types:\n",
    " 1. directed graph:\n",
    " 2. undirected graph:\n",
    " \n",
    "1. direct graph:\n",
    " 1. wieghted graph\n",
    " 2. unweighted graph\n",
    "   1. weighted graph: \n",
    "     1. postive graph:\n",
    "     2. Negative graph:\n",
    "2. undirected graph:\n",
    " 1. wieghted graph\n",
    " 2. unweighted graph \n",
    "   1. weighted graph: \n",
    "     1. postive graph:\n",
    "     2. Negative graph:\n",
    "\n",
    "\n",
    "Adjcent matrix: 2D matrix used to store vertex and edges (use this when it is complete graph)\n",
    "\n",
    "Adjency list: collection of unorder list used to represent graph using linked list(as dictonary) ( usen when graph have few edges and vertex)\n",
    "\n",
    "\n",
    "\n",
    "\n"
   ]
  },
  {
   "cell_type": "code",
   "execution_count": null,
   "id": "b236bc62",
   "metadata": {},
   "outputs": [],
   "source": [
    "#create a graph\n",
    "\n",
    "class Graph:\n",
    "    def __init__(self,gdict=None):\n",
    "        if gdict is None:\n",
    "            gdict={}\n",
    "        self.gdict=gdict\n",
    "    def addedge(self,vertex,edge):\n",
    "        self.gdict[vertex].append(edge)\n",
    "cd={ 'a':['b','c'],\n",
    "    'b': ['a','d','e'],\n",
    "    'c': ['a','e'],\n",
    "    'd': ['b','e','f'],\n",
    "    'e': ['d','f','c'],\n",
    "    'f': ['d','e'] \n",
    "   }\n",
    "graph= Graph(cd)\n",
    "print(graph.gdict)\n",
    "graph.addedge('e','a')\n",
    "print(graph.gdict)"
   ]
  },
  {
   "cell_type": "code",
   "execution_count": null,
   "id": "3ce2e709",
   "metadata": {},
   "outputs": [],
   "source": [
    "class graph:\n",
    "    def __init__(self):\n",
    "        self.adj_list={}\n",
    "        \n",
    "    def add_vertex(self,vertex):\n",
    "        if vertex not in self.adj_list.keys():\n",
    "            self.adj_list[vertex]=[]\n",
    "            return True\n",
    "        return False\n",
    "    def print_graph(self):\n",
    "        for vertex in self.adj_list:\n",
    "            print(vertex,\":\",self.adj_list[vertex])\n",
    "    \n",
    "    def add_edge(self,vertex1,vertex2):\n",
    "        if vertex1 in self.adj_list.keys() and vertex2 in self.adj_list.keys():\n",
    "            self.adj_list[vertex1].append(vertex2)\n",
    "            self.adj_list[vertex2].append(vertex1)\n",
    "            return True\n",
    "        return False\n",
    "    def remove_edge(self,vertex1,vertex2):\n",
    "        if vertex1 in self.adj_list.keys() and vertex2 in self.adj_list.keys():\n",
    "            self.adj_list[vertex1].remove(vertex2)\n",
    "            self.adj_list[vertex2].remove(vertex1)\n",
    "            return True\n",
    "        return False\n",
    "    def remove_vertex(self, vertex):\n",
    "        if vertex in self.adj_list.keys():\n",
    "            for other_vertex in self.adj_list[vertex]:\n",
    "                self.adj_list[other_vertex].remove(vertex)\n",
    "            del self.adj_list[vertex]\n",
    "            return True\n",
    "        return False\n",
    "    \n",
    "        \n",
    "cg=graph()\n",
    "cg.add_vertex(\"A\")\n",
    "cg.add_vertex(\"B\")\n",
    "cg.add_vertex(\"C\")\n",
    "cg.add_edge(\"A\",\"B\")\n",
    "cg.add_edge(\"B\",\"C\")\n",
    "cg.print_graph()"
   ]
  },
  {
   "cell_type": "code",
   "execution_count": null,
   "id": "6af49f50",
   "metadata": {},
   "outputs": [],
   "source": [
    "#BFS\n",
    "class Graph:\n",
    "    def __init__(self,gdict=None):\n",
    "        if gdict is None:\n",
    "            gdict={}\n",
    "        self.gdict=gdict\n",
    "    def addedge(self,vertex,edge):\n",
    "        self.gdict[vertex].append(edge)\n",
    "    def bfs(self,vertex):\n",
    "        visted=[vertex]\n",
    "        queue=[vertex]\n",
    "        while queue:\n",
    "            devertex= queue.pop(0)\n",
    "            print(devertex)\n",
    "            for adjvertex in self.gdict[devertex]:\n",
    "                if adjvertex not in visted:\n",
    "                    visted.append(adjvertex)\n",
    "                    queue.append(adjvertex)\n",
    "                \n",
    "    \n",
    "cd={ 'a':['b','c'],\n",
    "    'b': ['a','d','e'],\n",
    "    'c': ['a','e'],\n",
    "    'd': ['b','e','f'],\n",
    "    'e': ['d','f','c'],\n",
    "    'f': ['d','e'] \n",
    "   }\n",
    "g=Graph(cd)\n",
    "g.bfs('a')"
   ]
  },
  {
   "cell_type": "code",
   "execution_count": null,
   "id": "320351b6",
   "metadata": {},
   "outputs": [],
   "source": [
    "#DFS\n",
    "#create a graph\n",
    "\n",
    "class Graph:\n",
    "    def __init__(self,gdict=None):\n",
    "        if gdict is None:\n",
    "            gdict={}\n",
    "        self.gdict=gdict\n",
    "    def addedge(self,vertex,edge):\n",
    "        self.gdict[vertex].append(edge)\n",
    "        \n",
    "    def dfs(self,vertex):\n",
    "        stack=[vertex]\n",
    "        visited=[vertex]\n",
    "        while stack:\n",
    "            p=stack.pop()\n",
    "            print(p)\n",
    "            for i in self.gdict[p]:\n",
    "                if i not in visited:\n",
    "                    visited.append(i)\n",
    "                    stack.append(i)\n",
    "cd={ 'a':['b','c'],\n",
    "    'b': ['a','d','e'],\n",
    "    'c': ['a','e'],\n",
    "    'd': ['b','e','f'],\n",
    "    'e': ['d','f','c'],\n",
    "    'f': ['d','e'] \n",
    "   }\n",
    "g=Graph(cd)\n",
    "g.dfs('a')\n"
   ]
  },
  {
   "cell_type": "markdown",
   "id": "a838a27e",
   "metadata": {},
   "source": [
    "# Toplogical sort:\n",
    " sorts given actions in such a way that if there is dependency of one action on another, the dependency actor always comes later than its parent action\n",
    " \n",
    "Algorithm:\n",
    "\n",
    "if vertex depomds on current vertex\n",
    "\n",
    "     go to that vertex and\n",
    "     then came back to currentvertex\n",
    "else\n",
    "\n",
    "    push currentvertex to stack"
   ]
  },
  {
   "cell_type": "code",
   "execution_count": null,
   "id": "cb83ce39",
   "metadata": {},
   "outputs": [],
   "source": [
    "from collections import defaultdict\n",
    "\n",
    "class Graph:\n",
    "    def __init__(self, nvertices):\n",
    "        self.graph = defaultdict(list)\n",
    "        self.nvertices = nvertices\n",
    "\n",
    "    def add_edge(self, vertex, edge):\n",
    "        self.graph[vertex].append(edge)\n",
    "\n",
    "    def topological_util(self, v, visited, stack):\n",
    "        visited.append(v)\n",
    "\n",
    "        for i in self.graph[v]:\n",
    "            if i not in visited:\n",
    "                self.topological_util(i, visited, stack)\n",
    "\n",
    "        stack.append(v)\n",
    "\n",
    "    def topological_sort(self):\n",
    "        visited = []\n",
    "        stack = []\n",
    "\n",
    "        for k in list(self.graph):\n",
    "            if k not in visited:\n",
    "                self.topological_util(k, visited, stack)\n",
    "\n",
    "        stack.reverse()\n",
    "        print(stack)\n",
    "\n",
    "g = Graph(8)\n",
    "g.add_edge(\"A\", \"C\")\n",
    "g.add_edge(\"C\", \"E\")\n",
    "g.add_edge(\"E\", \"H\")\n",
    "g.add_edge(\"E\", \"F\")\n",
    "g.add_edge(\"F\", \"G\")\n",
    "g.add_edge(\"B\", \"C\")\n",
    "g.add_edge(\"B\", \"D\")\n",
    "g.add_edge(\"D\", \"F\")\n",
    "g.topological_sort()\n",
    "\n",
    "#TC: O(V+E)\n"
   ]
  },
  {
   "cell_type": "markdown",
   "id": "d020eb89",
   "metadata": {},
   "source": [
    "# SSSPP\n",
    "Single source shortest path problem\n",
    "\n",
    "finding a path between a given vertex to other vertices in a graph such that the total distance between them is minimum\n",
    "\n"
   ]
  },
  {
   "cell_type": "markdown",
   "id": "5e9d652c",
   "metadata": {},
   "source": [
    "# BFS for SSSPP\n",
    "\n",
    "BFS\n",
    "enqueue any starting vertex\n",
    "\n",
    "    while queue is not empty\n",
    "\n",
    "        p = dequeue ()\n",
    "        if p is unvisited\n",
    "            mark it visited\n",
    "            enqueue all adjacent unvisited vertices of p\n",
    "            update parent of adjacent vertices to curVertex"
   ]
  },
  {
   "cell_type": "code",
   "execution_count": null,
   "id": "1e37c0fb",
   "metadata": {},
   "outputs": [],
   "source": [
    "from collections import defaultdict\n",
    "\n",
    "class Graph:\n",
    "    def __init__(self, gdict=None):\n",
    "        if gdict is None:\n",
    "            gdict = {}\n",
    "        self.gdict = gdict\n",
    "    \n",
    "    def bfs(self, start, end):\n",
    "        visited = set()\n",
    "        queue = [[start]]\n",
    "\n",
    "        if start == end:\n",
    "            return f\"Start and end vertices are the same: {start}\"\n",
    "\n",
    "        while queue:\n",
    "            path = queue.pop(0)\n",
    "            node = path[-1]\n",
    "\n",
    "            if node not in visited:\n",
    "                adjacent_nodes = self.gdict.get(node, [])\n",
    "                for adjacent_node in adjacent_nodes:\n",
    "                    new_path = list(path)\n",
    "                    new_path.append(adjacent_node)\n",
    "                    queue.append(new_path)\n",
    "\n",
    "                    if adjacent_node == end:\n",
    "                        return new_path\n",
    "\n",
    "                visited.add(node)\n",
    "\n",
    "        return \"No path found between the given vertices.\"\n",
    "\n",
    "graph_dict = {\n",
    "    'a': ['b', 'c'],\n",
    "    'b': ['a', 'd', 'e'],\n",
    "    'c': ['a', 'e'],\n",
    "    'd': ['b', 'e', 'f'],\n",
    "    'e': ['d', 'f', 'c'],\n",
    "    'f': ['d', 'e']\n",
    "}\n",
    "\n",
    "g = Graph(graph_dict)\n",
    "path = g.bfs(\"a\", \"f\")\n",
    "print(path)\n"
   ]
  },
  {
   "cell_type": "markdown",
   "id": "817010ad",
   "metadata": {},
   "source": [
    "# BFS for ssspp will only work with unweighted graphs(directed and undirected)"
   ]
  },
  {
   "cell_type": "markdown",
   "id": "c9a3cc56",
   "metadata": {},
   "source": [
    "# why it is not work with weighted\n",
    "\n",
    "BFS goes like level order, when it goes with weight, so we  may might not get minimal path\n",
    "\n",
    "\n",
    "# DFS not work for SSSPP\n",
    "it goes as far as from source"
   ]
  },
  {
   "cell_type": "markdown",
   "id": "17ba44ba",
   "metadata": {},
   "source": [
    "# Dijkstra Algorithm\n",
    "It is used to find shorest path for weighted graphs\n",
    "\n",
    "Algorithm:\n",
    "\n",
    "start will be 0\n",
    "\n",
    "mark remaining vertex as infinity\n",
    "\n",
    "calculate distance to next vertex if distance is min than vertex distance replace with mini distance \n",
    "\n",
    "after calculating distance form all neighbour mark strart vertex as visited and reprat it to all it neighbour vertices"
   ]
  },
  {
   "cell_type": "code",
   "execution_count": null,
   "id": "ce192156",
   "metadata": {},
   "outputs": [],
   "source": [
    "import heapq\n",
    "\n",
    "class Edge:\n",
    "    def __init__(self, weight, start, target):\n",
    "        self.weight = weight\n",
    "        self.start = start\n",
    "        self.target = target\n",
    "\n",
    "class Node:\n",
    "    def __init__(self, name):\n",
    "        self.name = name\n",
    "        self.visited = False\n",
    "        self.predecessor = None\n",
    "        self.neighbours = []\n",
    "        self.min_distance = float(\"inf\")\n",
    "\n",
    "    def __lt__(self, other):\n",
    "        return self.min_distance < other.min_distance\n",
    "\n",
    "    def add_edge(self, weight, destination):\n",
    "        ed = Edge(weight, self, destination)\n",
    "        self.neighbours.append(ed)\n",
    "\n",
    "class Dijkstra:\n",
    "    def __init__(self):\n",
    "        self.heap = []\n",
    "\n",
    "    def calc(self, start_vertex):\n",
    "        start_vertex.min_distance = 0\n",
    "        heapq.heappush(self.heap, start_vertex)\n",
    "\n",
    "        while self.heap:\n",
    "            actual_vertex = heapq.heappop(self.heap)\n",
    "\n",
    "            for edge in actual_vertex.neighbours:\n",
    "                start = edge.start\n",
    "                target = edge.target\n",
    "                new_distance = start.min_distance + edge.weight\n",
    "\n",
    "                if new_distance < target.min_distance:\n",
    "                    target.min_distance = new_distance\n",
    "                    target.predecessor = start\n",
    "\n",
    "                    # Re-add the updated node to the heap\n",
    "                    heapq.heappush(self.heap, target)\n",
    "\n",
    "            actual_vertex.visited = True\n",
    "\n",
    "    def get_shortest_path(self, vertex):\n",
    "        print(f\"Shortest path to {vertex.name}:\")\n",
    "        print(f\"Minimum distance: {vertex.min_distance}\")\n",
    "\n",
    "        actual_vertex = vertex\n",
    "        path = []\n",
    "\n",
    "        while actual_vertex is not None:\n",
    "            path.append(actual_vertex.name)\n",
    "            actual_vertex = actual_vertex.predecessor\n",
    "\n",
    "        path.reverse()\n",
    "        print(\"Path:\", ' -> '.join(path))\n",
    "\n",
    "\n",
    "# Create nodes\n",
    "a = Node(\"A\")\n",
    "b = Node(\"B\")\n",
    "c = Node(\"C\")\n",
    "d = Node(\"D\")\n",
    "e = Node(\"E\")\n",
    "\n",
    "# Create edges\n",
    "a.add_edge(5, b)\n",
    "a.add_edge(1, c)\n",
    "b.add_edge(3, c)\n",
    "b.add_edge(2, d)\n",
    "c.add_edge(2, d)\n",
    "c.add_edge(4, e)\n",
    "d.add_edge(1, e)\n",
    "\n",
    "# Initialize Dijkstra's algorithm\n",
    "dijkstra = Dijkstra()\n",
    "dijkstra.calc(a)\n",
    "\n",
    "# Get the shortest path from A to E\n",
    "dijkstra.get_shortest_path(e)\n"
   ]
  },
  {
   "cell_type": "markdown",
   "id": "61877c59",
   "metadata": {},
   "source": [
    "# dijkstra can not deal with negative cycle so we neeed to use bellman frod algorithm"
   ]
  },
  {
   "cell_type": "markdown",
   "id": "32d49f42",
   "metadata": {},
   "source": [
    "Bellman Ford Algorithm\n",
    "\n",
    "Single Source Shortest Path Algorithm\n",
    "\n",
    "Graph Type BFS Dijkstra Bellman Ford\n",
    "\n",
    "Unweighted - undirected OK OK OK\n",
    "\n",
    "Unweighted - directed OK OK OK\n",
    "\n",
    "Positive weighted - undirected X OK OK\n",
    "\n",
    "Positive - weighted - directed X OK OK\n",
    "\n",
    "Negative - weighted - undirected X OK OK\n",
    "\n",
    "Negative - weighted - directed X OK OK\n",
    "\n",
    "Negative Cycle X X OK"
   ]
  },
  {
   "cell_type": "markdown",
   "id": "2188eaae",
   "metadata": {},
   "source": [
    "Bellman Ford Algorithm\n",
    "\n",
    "Bellman Ford algorithm is used to find single source shortest path problem. If there is a negative cycle it catches it and report its existence.\n",
    "\n",
    "If the distance of destination vertex > (distance ofsource vertex + weight between source and destination\n",
    "\n",
    "vertex):\n",
    "\n",
    "    Update distance of destination vertex to (distance ofsource vertex + weight between source and destinationvertex)\n",
    "    \n",
    "why v-1 times:\n",
    "the  max number of node b/w teo nodes is v-1"
   ]
  },
  {
   "cell_type": "code",
   "execution_count": null,
   "id": "61badf54",
   "metadata": {},
   "outputs": [],
   "source": [
    "class Graph:\n",
    "    def __init__(self, vertices):\n",
    "        self.V = vertices\n",
    "        self.graph = []\n",
    "\n",
    "    def add_edge(self, u, v, w):\n",
    "        self.graph.append([u, v, w])\n",
    "\n",
    "    def bellman_ford(self, src):\n",
    "        # Step 1: Initialize distance from source to all other vertices as infinite\n",
    "        distance = [float(\"inf\")] * self.V\n",
    "        distance[src] = 0\n",
    "\n",
    "        # Step 2: Relax all edges |V| - 1 times\n",
    "        for _ in range(self.V - 1):\n",
    "            for u, v, w in self.graph:\n",
    "                if distance[u] != float(\"inf\") and distance[u] + w < distance[v]:\n",
    "                    distance[v] = distance[u] + w\n",
    "\n",
    "        # Step 3: Check for negative-weight cycles\n",
    "        for u, v, w in self.graph:\n",
    "            if distance[u] != float(\"inf\") and distance[u] + w < distance[v]:\n",
    "                print(\"Graph contains negative-weight cycle\")\n",
    "                return\n",
    "\n",
    "        # Step 4: Print the shortest distances\n",
    "        self.print_solution(distance)\n",
    "\n",
    "    def print_solution(self, distance):\n",
    "        print(\"Vertex\\tDistance from Source\")\n",
    "        for i in range(self.V):\n",
    "            print(f\"{i}\\t\\t{distance[i]}\")\n",
    "\n",
    "\n",
    "# Create a graph with 5 vertices\n",
    "g = Graph(5)\n",
    "\n",
    "# Add edges to the graph (u, v, w) -> edge from u to v with weight w\n",
    "g.add_edge(0, 1, -1)\n",
    "g.add_edge(0, 2, 4)\n",
    "g.add_edge(1, 2, 3)\n",
    "g.add_edge(1, 3, 2)\n",
    "g.add_edge(1, 4, 2)\n",
    "g.add_edge(3, 2, 5)\n",
    "g.add_edge(3, 1, 1)\n",
    "g.add_edge(4, 3, -3)\n",
    "\n",
    "# Run Bellman-Ford algorithm with source vertex 0\n",
    "g.bellman_ford(0)\n"
   ]
  },
  {
   "cell_type": "markdown",
   "id": "e9f6ed50",
   "metadata": {},
   "source": [
    "BFS vs Dijkstra vs Bellman Ford\n",
    "\n",
    "BFS Dijkstra Bellman Ford\n",
    "\n",
    "Time complexity O(V²) O(V²) O(VE)\n",
    "\n",
    "Space complexity O(E) OM OM\n",
    "\n",
    "Implementation Easy Moderate Moderate Limitation Not work for weighted graph Not work for negative cycle N/A\n",
    "\n",
    "OK OK OK\n",
    "\n",
    "Unweighted graph Use this as time complexity is good and Not e as implementation not Not use as time complexity\n",
    "easy to implement is bad\n",
    "\n",
    "easy\n",
    "X OK OK\n",
    "\n",
    "Weighted graph Use as time complexity is Not use as time complexity\n",
    "\n",
    "Not supported\n",
    "\n",
    "better than Bellman is bad\n",
    "\n",
    "X X OK\n",
    "\n",
    "Negative Cycle Use this as others not\n",
    "\n",
    "Not supported Not supported\n",
    "\n",
    "support"
   ]
  },
  {
   "cell_type": "code",
   "execution_count": null,
   "id": "9bce6af4",
   "metadata": {},
   "outputs": [],
   "source": []
  },
  {
   "cell_type": "markdown",
   "id": "80d861b7",
   "metadata": {},
   "source": [
    "# Floyd Warshall\n",
    "\n",
    "* used to find minimum path for each vertx\n",
    "* distance for vertex to it self is 0\n",
    "* if we do not have direct path we set it to infinity\n",
    "* fill the value with weights\n",
    "* if distance b/w 2 vertices > the distance  from short vertex a\\+ distaance from destination vertex then update it\n",
    "\n",
    "# Why (It covers all below cases, so it is very accurate)\n",
    "* the vertex is not reacble is infinity (do not run alg)\n",
    "* direct link b/w vertices\n",
    "* connected via of other vertex\n",
    "\n",
    "# Negative cycles\n",
    "\n",
    "it can not used for negative cyle because we never vist vertecx twice so it unable to catch negative cyle\n"
   ]
  },
  {
   "cell_type": "code",
   "execution_count": null,
   "id": "372fcb39",
   "metadata": {},
   "outputs": [],
   "source": [
    "def floyd_warshall(graph):\n",
    "    num_vertices = len(graph)\n",
    "    distance = [[float('inf') if i != j else 0 for j in range(num_vertices)] for i in range(num_vertices)]\n",
    "    \n",
    "    # Initialize the distance matrix with the weights of the graph\n",
    "    for u in range(num_vertices):\n",
    "        for v, weight in graph[u]:\n",
    "            distance[u][v] = weight\n",
    "    \n",
    "    # Main algorithm loop\n",
    "    for k in range(num_vertices):\n",
    "        for i in range(num_vertices):\n",
    "            for j in range(num_vertices):\n",
    "                if distance[i][j] > distance[i][k] + distance[k][j]:\n",
    "                    distance[i][j] = distance[i][k] + distance[k][j]\n",
    "    \n",
    "    return distance\n",
    "\n",
    "# Example usage\n",
    "graph = [\n",
    "    [(1, 3), (2, 6)],     # Vertex 0\n",
    "    [(2, 2)],             # Vertex 1\n",
    "    [(3, 1)],             # Vertex 2\n",
    "    [(1, 4), (0, 2)]      # Vertex 3\n",
    "]\n",
    "\n",
    "result = floyd_warshall(graph)\n",
    "for row in result:\n",
    "    print(row)\n",
    "\n",
    "#TC : O(V^3)"
   ]
  },
  {
   "cell_type": "markdown",
   "id": "a0b0c5d6",
   "metadata": {},
   "source": [
    "# Minimum Spanning Tree\n",
    "\n",
    "A minimum spanning tree(MST) is a subset of the edge of conneected , weighted & undirected graph\n",
    "\n",
    "* connectes all vertices\n",
    "* no cycle\n",
    "* minimu total edge\n",
    "\n",
    "# Disjoint set\n",
    "A ds that keep track of set of elements which are partitioned into number of disjoint and non overlapping sets and each set have eepresntative which helps in identifying that sets\n",
    "\n",
    "* MakeSet(N): used to create inital set\n",
    "* union(x,y): merge two given set\n",
    "* findSet(x): return the set name in which this element is present\n",
    "\n"
   ]
  },
  {
   "cell_type": "code",
   "execution_count": null,
   "id": "719b23ab",
   "metadata": {},
   "outputs": [],
   "source": [
    "class DisjointSet:\n",
    "    def __init__(self, vertices):\n",
    "        self.vertices = vertices\n",
    "        self.parent = {}\n",
    "        for v in vertices:\n",
    "            self.parent[v] = v\n",
    "        self.rank = dict.fromkeys(vertices, 0)\n",
    "\n",
    "    def find(self, item):\n",
    "        if self.parent[item] == item:\n",
    "            return item\n",
    "        else:\n",
    "            return self.find(self.parent[item])\n",
    "\n",
    "    def union(self, x, y):\n",
    "        xroot = self.find(x)\n",
    "        yroot = self.find(y)\n",
    "        \n",
    "        if self.rank[xroot] < self.rank[yroot]:\n",
    "            self.parent[xroot] = yroot\n",
    "        elif self.rank[xroot] > self.rank[yroot]:\n",
    "            self.parent[yroot] = xroot\n",
    "        else:\n",
    "            self.parent[yroot] = xroot\n",
    "            self.rank[xroot] += 1\n",
    "\n",
    "# Example usage\n",
    "vertices = [\"A\", \"B\", \"C\", \"D\", \"E\"]\n",
    "ds = DisjointSet(vertices)\n",
    "ds.union(\"A\", \"B\")\n",
    "print(ds.find(\"A\"))\n"
   ]
  },
  {
   "cell_type": "markdown",
   "id": "1235e64d",
   "metadata": {},
   "source": [
    "# Kruskal's Algorithm\n",
    "It is a greedy algorithm\n",
    "\n",
    "It finds a minimum spanning tree for weighted undirected graphs in two ways\n",
    "\n",
    "Add increasing cost edges at each step\n",
    "\n",
    "Avoid any cycle at each step"
   ]
  },
  {
   "cell_type": "code",
   "execution_count": null,
   "id": "3c03a0a8",
   "metadata": {},
   "outputs": [],
   "source": [
    "class DisjointSet:\n",
    "    def __init__(self, vertices):\n",
    "        self.parent = {}\n",
    "        self.rank = {}\n",
    "        for v in vertices:\n",
    "            self.parent[v] = v\n",
    "            self.rank[v] = 0\n",
    "    \n",
    "    def find(self, item):\n",
    "        if self.parent[item] != item:\n",
    "            self.parent[item] = self.find(self.parent[item])\n",
    "        return self.parent[item]\n",
    "    \n",
    "    def union(self, x, y):\n",
    "        xroot = self.find(x)\n",
    "        yroot = self.find(y)\n",
    "        \n",
    "        if self.rank[xroot] < self.rank[yroot]:\n",
    "            self.parent[xroot] = yroot\n",
    "        elif self.rank[xroot] > self.rank[yroot]:\n",
    "            self.parent[yroot] = xroot\n",
    "        else:\n",
    "            self.parent[yroot] = xroot\n",
    "            self.rank[xroot] += 1\n",
    "\n",
    "\n",
    "def kruskal(graph):\n",
    "    # Sort the edges in non-decreasing order of their weights\n",
    "    edges = sorted(graph, key=lambda x: x[2])\n",
    "    \n",
    "    mst = []\n",
    "    disjoint_set = DisjointSet(vertices)\n",
    "    \n",
    "    for edge in edges:\n",
    "        u, v, weight = edge\n",
    "        if disjoint_set.find(u) != disjoint_set.find(v):\n",
    "            mst.append(edge)\n",
    "            disjoint_set.union(u, v)\n",
    "    \n",
    "    return mst\n",
    "\n",
    "\n",
    "# Example usage\n",
    "vertices = [\"A\", \"B\", \"C\", \"D\", \"E\"]\n",
    "graph = [\n",
    "    (\"A\", \"B\", 3),\n",
    "    (\"A\", \"C\", 1),\n",
    "    (\"B\", \"C\", 4),\n",
    "    (\"B\", \"D\", 2),\n",
    "    (\"C\", \"D\", 5),\n",
    "    (\"C\", \"E\", 6),\n",
    "    (\"D\", \"E\", 7)\n",
    "]\n",
    "\n",
    "mst = kruskal(graph)\n",
    "for edge in mst:\n",
    "    print(edge)\n"
   ]
  },
  {
   "cell_type": "markdown",
   "id": "efdff1c4",
   "metadata": {},
   "source": [
    "# Prims Algorithm\n",
    "is a greedy algorithm\n",
    "finds a minimum spanning tree for weighted undirected graphs in following ways\n",
    "1. Take any vertex as a source set its weight to 0 and all other vertices' weight to infinity\n",
    "2. For every adjacent vertices if the current weight is more than current edge then we set it\n",
    "to current edge\n",
    "3. Then we mark current vertex as visited\n",
    "4. Repeat these steps for all vertices in increasing order of weight"
   ]
  },
  {
   "cell_type": "code",
   "execution_count": null,
   "id": "14877cec",
   "metadata": {},
   "outputs": [],
   "source": [
    "import heapq\n",
    "\n",
    "\n",
    "def prim(graph):\n",
    "    start_vertex = list(graph.keys())[0]  # Choose any starting vertex\n",
    "    \n",
    "    mst = []  # Minimum Spanning Tree\n",
    "    visited = set([start_vertex])  # Visited vertices\n",
    "    edges = [(weight, start_vertex, neighbor) for neighbor, weight in graph[start_vertex]]\n",
    "    heapq.heapify(edges)  # Create a min-heap from the edges\n",
    "    \n",
    "    while edges:\n",
    "        weight, u, v = heapq.heappop(edges)  # Extract the edge with the minimum weight\n",
    "        if v not in visited:\n",
    "            visited.add(v)\n",
    "            mst.append((u, v, weight))\n",
    "            for neighbor, weight in graph[v]:\n",
    "                if neighbor not in visited:\n",
    "                    heapq.heappush(edges, (weight, v, neighbor))\n",
    "    \n",
    "    return mst\n",
    "\n",
    "\n",
    "# Example usage\n",
    "graph = {\n",
    "    \"A\": [(\"B\", 3), (\"C\", 1)],\n",
    "    \"B\": [(\"A\", 3), (\"C\", 4), (\"D\", 2)],\n",
    "    \"C\": [(\"A\", 1), (\"B\", 4), (\"D\", 5), (\"E\", 6)],\n",
    "    \"D\": [(\"B\", 2), (\"C\", 5), (\"E\", 7)],\n",
    "    \"E\": [(\"C\", 6), (\"D\", 7)]\n",
    "}\n",
    "\n",
    "mst = prim(graph)\n",
    "for edge in mst:\n",
    "    print(edge)\n"
   ]
  },
  {
   "cell_type": "markdown",
   "id": "c080f1a1",
   "metadata": {},
   "source": [
    "# Greedy Algorithm\n",
    "\n",
    "* build the solution piece by piece\n",
    "* in each step most suitable solution\n",
    "* \n",
    "\n",
    "used in :\n",
    "* Insertion sort: \"\n",
    "* Selection sort\n",
    "* Topological sort\n",
    "* prims Algorithm\n",
    "* kruskal Algorithm\n",
    "\n",
    "* Activly selection problem\n",
    "* coin change problem\n",
    "* Fractional Knapsack problem\n"
   ]
  },
  {
   "cell_type": "code",
   "execution_count": null,
   "id": "4266a3ef",
   "metadata": {},
   "outputs": [],
   "source": [
    "def activitySelection(start, end):\n",
    "    activities = sorted(zip(start, end), key=lambda x: x[1])  # Sort activities by end time\n",
    "    selected_activities = [activities[0]]  # Select the first activity with the earliest end time\n",
    "    last_end_time = activities[0][1]\n",
    "    \n",
    "    for activity in activities[1:]:\n",
    "        start_time, end_time = activity\n",
    "        if start_time >= last_end_time:  # If the activity's start time is after the last selected activity's end time\n",
    "            selected_activities.append(activity)\n",
    "            last_end_time = end_time\n",
    "    \n",
    "    return selected_activities\n"
   ]
  },
  {
   "cell_type": "code",
   "execution_count": null,
   "id": "db3e267e",
   "metadata": {},
   "outputs": [],
   "source": [
    "def coinChange(coins, amount):\n",
    "    dp = [float('inf')] * (amount + 1)\n",
    "    dp[0] = 0\n",
    "\n",
    "    for i in range(1, amount + 1):\n",
    "        for coin in coins:\n",
    "            if coin <= i:\n",
    "                dp[i] = min(dp[i], dp[i - coin] + 1)\n",
    "\n",
    "    return dp[amount] if dp[amount] != float('inf') else -1\n"
   ]
  },
  {
   "cell_type": "code",
   "execution_count": null,
   "id": "4df56c14",
   "metadata": {},
   "outputs": [],
   "source": [
    "class Item:\n",
    "    def __init__(self, value, weight):\n",
    "        self.value = value\n",
    "        self.weight = weight\n",
    "        self.value_weight_ratio = value / weight\n",
    "\n",
    "def fractional_knapsack(items, capacity):\n",
    "    # Sort items based on their value-to-weight ratio in descending order\n",
    "    sorted_items = sorted(items, key=lambda item: item.value_weight_ratio, reverse=True)\n",
    "    \n",
    "    total_value = 0.0\n",
    "    knapsack = []\n",
    "\n",
    "    for item in sorted_items:\n",
    "        if capacity >= item.weight:\n",
    "            # Add the entire item to the knapsack\n",
    "            knapsack.append(item)\n",
    "            total_value += item.value\n",
    "            capacity -= item.weight\n",
    "        else:\n",
    "            # Add a fraction of the item to the knapsack based on the remaining capacity\n",
    "            fraction = capacity / item.weight\n",
    "            item_fraction = Item(item.value * fraction, item.weight * fraction)\n",
    "            knapsack.append(item_fraction)\n",
    "            total_value += item.value * fraction\n",
    "            capacity = 0\n",
    "            break\n",
    "    \n",
    "    return total_value, knapsack\n",
    "\n",
    "# Example usage\n",
    "items = [\n",
    "    Item(60, 10),\n",
    "    Item(100, 20),\n",
    "    Item(120, 30)\n",
    "]\n",
    "capacity = 50\n",
    "\n",
    "max_value, knapsack_items = fractional_knapsack(items, capacity)\n",
    "\n",
    "# Print the maximum achievable value and the selected items in the knapsack\n",
    "print(\"Maximum Value:\", max_value)\n",
    "print(\"Knapsack Items:\")\n",
    "for item in knapsack_items:\n",
    "    print(\"Value:\", item.value, \" Weight:\", item.weight)\n"
   ]
  },
  {
   "cell_type": "markdown",
   "id": "49052050",
   "metadata": {},
   "source": [
    "# Divide and conquer\n",
    "\n"
   ]
  },
  {
   "cell_type": "code",
   "execution_count": 11,
   "id": "529455d8",
   "metadata": {},
   "outputs": [
    {
     "name": "stdout",
     "output_type": "stream",
     "text": [
      "5\n"
     ]
    }
   ],
   "source": [
    "from collections import Counter\n",
    "\n",
    "class Solution:\n",
    "    def minOperations(self, nums):\n",
    "        x = dict(Counter(nums))\n",
    "        x1 = list(x.values())\n",
    "        c = 0\n",
    "\n",
    "        for i in x1:\n",
    "            if i==1:\n",
    "                return -1\n",
    "            if i % 3 == 0:\n",
    "                    c += i // 3\n",
    "            else:\n",
    "                y = i // 3\n",
    "                z = False\n",
    "\n",
    "                for j in range(y, 0, -1):\n",
    "                    if (i - (j * 3)) % 2 == 0:\n",
    "                        z = True\n",
    "                        k = j\n",
    "                        m = (i - (j * 3)) // 2\n",
    "                        break\n",
    "\n",
    "                if z:\n",
    "                    c += k + m\n",
    "                else:\n",
    "                    c += i // 2\n",
    "\n",
    "        return c\n",
    "\n",
    "\n",
    "\n",
    "# Test case\n",
    "nums = [19, 19, 19, 19, 19, 19, 19, 19, 19, 19, 19, 19, 19]\n",
    "obj = Solution()\n",
    "result = obj.minOperations(nums)\n",
    "print(result)\n"
   ]
  }
 ],
 "metadata": {
  "kernelspec": {
   "display_name": "Python 3 (ipykernel)",
   "language": "python",
   "name": "python3"
  },
  "language_info": {
   "codemirror_mode": {
    "name": "ipython",
    "version": 3
   },
   "file_extension": ".py",
   "mimetype": "text/x-python",
   "name": "python",
   "nbconvert_exporter": "python",
   "pygments_lexer": "ipython3",
   "version": "3.9.12"
  }
 },
 "nbformat": 4,
 "nbformat_minor": 5
}
